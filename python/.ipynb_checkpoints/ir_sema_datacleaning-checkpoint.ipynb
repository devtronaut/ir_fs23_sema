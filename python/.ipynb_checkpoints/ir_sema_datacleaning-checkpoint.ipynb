{
 "cells": [
  {
   "cell_type": "code",
   "execution_count": null,
   "id": "5b7ac9fb-92f4-40ce-b83d-6d07def854c3",
   "metadata": {
    "tags": []
   },
   "outputs": [],
   "source": [
    "# Load the dataset (dataframe; DF), apply first measures to reduce the quantity of document entities (DE)\n",
    "\n",
    "import pandas as pd\n",
    "from xml.etree import ElementTree as ET\n",
    "\n",
    "# Load the dataset\n",
    "path = r'/home/jovyan/work/data/wiki_movie_plots_deduped.csv'\n",
    "df = pd.read_csv(path)\n",
    "\n",
    "# First stage of reduction: eliminate unknown and NaN values, only use DE from 2000 onwards\n",
    "res = df[\n",
    "            (df['Director'] != 'Unknown') & \n",
    "            (df['Cast'] != 'NaN') & \n",
    "            (df['Genre'] != 'unknown') & \n",
    "            (df['Release Year'] >= 2000)\n",
    "]\n",
    "\n",
    "# Make index column\n",
    "res.reset_index(drop=True, inplace=True)\n",
    "res.reset_index(inplace=True)"
   ]
  },
  {
   "cell_type": "code",
   "execution_count": null,
   "id": "41d8dcb7-f2d3-4b2e-af08-28e813432ab4",
   "metadata": {
    "tags": []
   },
   "outputs": [],
   "source": [
    "# Get to know the remaining DE\n",
    "# Print keys of DF\n",
    "keys = list(df.keys())\n",
    "print(f'Keys: {\", \".join(keys)}')\n",
    "\n",
    "# Print # of DE\n",
    "print(f'Number of DE: {len(res)}')"
   ]
  },
  {
   "cell_type": "code",
   "execution_count": null,
   "id": "68c6feba-3c1c-4d35-ad00-fe7af445e10a",
   "metadata": {
    "tags": []
   },
   "outputs": [],
   "source": [
    "# Get count of movies (#m) by release year\n",
    "print(res['Release Year'].value_counts().sort_index())"
   ]
  },
  {
   "cell_type": "code",
   "execution_count": null,
   "id": "ff7a2d12-a38b-4814-98cf-65ebe1d0b239",
   "metadata": {
    "tags": []
   },
   "outputs": [],
   "source": [
    "# Get #m by origin/ethnicity\n",
    "e = res['Origin/Ethnicity']\n",
    "\n",
    "mov_by_eth = e.value_counts()\n",
    "print(f'#Movies by Origin/Ethnicity: \\n{mov_by_eth}')"
   ]
  },
  {
   "cell_type": "code",
   "execution_count": null,
   "id": "7657fe66-c910-4c69-b02e-5e685aa90c53",
   "metadata": {
    "tags": []
   },
   "outputs": [],
   "source": [
    "# Get #m by director\n",
    "d = res['Director'].str.replace('/', ',')\n",
    "\n",
    "dir_with_slash = d[d.str.contains('/')]\n",
    "assert \\\n",
    "    len(dir_with_slash) == 0, \\\n",
    "    f\"There are still lists of directors, separated with a '/' instead of ','!\"\n",
    "\n",
    "mov_by_director = d.value_counts()\n",
    "print(f'#Movies by Director: \\n{mov_by_director}')"
   ]
  },
  {
   "cell_type": "code",
   "execution_count": null,
   "id": "fb1f5e59-bd49-40c7-b0f3-2f3b95491adf",
   "metadata": {
    "tags": []
   },
   "outputs": [],
   "source": [
    "# Get #m by genre\n",
    "g = res['Genre'].str.replace('/', ',')\n",
    "\n",
    "genr_with_slash = g[g.str.contains('/')]\n",
    "assert \\\n",
    "    len(genr_with_slash) == 0, \\\n",
    "    f\"There are still lists of genres, separated with a '/' instead of ','!\"\n",
    "\n",
    "mov_by_genre = g.value_counts()\n",
    "print(f'#Movies by Genre: \\n{mov_by_genre}')"
   ]
  },
  {
   "cell_type": "code",
   "execution_count": null,
   "id": "59692cf4-02ee-4e18-8ecd-b5dbe1b76093",
   "metadata": {
    "tags": []
   },
   "outputs": [],
   "source": [
    "'''\n",
    "Decision upon how to reduce the set to 5000 DE and of what measures to introduce before export:\n",
    "- Only consider plots of movies released in and after the year 2000\n",
    "- Further reduction of plots by a factor of 0.5, respecting the movies per origin/ethnicity proportion\n",
    "- Replace '/'-separators in lists of directors and genres by ','-separators\n",
    "'''\n",
    "# Work on a copy, as pandas throws errors otherwise\n",
    "res_copy = res.copy() \n",
    "\n",
    "# Replace '/'-separators in lists of directors and genres by ','-separators\n",
    "# Assert that replacements have taken place\n",
    "res_copy['Genre'] = res_copy['Genre'].str.replace('/', ',')\n",
    "res_copy['Director'] = res_copy['Director'].str.replace('/', ',')\n",
    "\n",
    "genr_w_slash = res_copy['Genre'][res_copy['Genre'].str.contains('/')]\n",
    "assert \\\n",
    "    len(genr_w_slash) == 0, \\\n",
    "    f\"There are still lists of genres, separated with a '/' instead of ','!\"\n",
    "\n",
    "dir_w_slash = res_copy['Director'][res_copy['Director'].str.contains('/')]\n",
    "assert \\\n",
    "    len(dir_w_slash) == 0, \\\n",
    "    f\"There are still lists of directors, separated with a '/' instead of ','!\"\n",
    "\n",
    "# Extend the dataframe with a new columns holding the count of movies by origin/ethnicity\n",
    "# The 'Eth_Counts'-column will be used as the weight for the sample\n",
    "res_copy['Eth_Counts'] = e.map(e.value_counts())\n",
    "\n",
    "# Get a sample of 5000 DE for the search set\n",
    "search_set = res_copy.sample(n=5000, weights='Eth_Counts', ignore_index=True).drop(columns=['Eth_Counts'])\n",
    "\n",
    "# Get a sample of 10 DE for the golden set\n",
    "golden_set = res_copy.sample(n=10, weights='Eth_Counts', ignore_index=True).drop(columns=['Eth_Counts'])\n",
    "# print(golden_set[['id', 'title', 'origin']])\n",
    "\n",
    "def setProperties(parent, data, name, boost=1.0):\n",
    "    child = ET.SubElement(parent, 'field')\n",
    "    child.text = data\n",
    "    child.attrib = {'name':name, 'boost':boost}\n",
    "\n",
    "def xmlFromDf(df):\n",
    "    print(len(df))\n",
    "    i = 0\n",
    "    add = ET.Element('add')\n",
    "    for ind, row in df.iterrows():\n",
    "        doc = ET.SubElement(add, 'doc')\n",
    "        f_id = setProperties(doc, str(row['index']), 'id', '1.0')\n",
    "        f_rel = setProperties(doc, str(row['Release Year']), 'release', '1.0')\n",
    "        f_title = setProperties(doc, str(row['Title']), 'title', '4.0')\n",
    "        f_origin = setProperties(doc, str(row['Origin/Ethnicity']), 'origin', '1.0')\n",
    "        f_director = setProperties(doc, str(row['Director']), 'director', '1.0')\n",
    "        f_cast = setProperties(doc, str(row['Cast']), 'cast', '1.0')\n",
    "        f_genre = setProperties(doc, str(row['Genre']), 'genre', '1.0')\n",
    "        f_wikipage = setProperties(doc, str(row['Wiki Page']), 'wikipage', '1.0')\n",
    "        f_plot = setProperties(doc, str(row['Plot']), 'plot', '2.0')\n",
    "        i += 1\n",
    "    \n",
    "    print(i)\n",
    "    return add\n",
    "\n",
    "def dfToXmlExport(df, path):\n",
    "    add = xmlFromDf(df)\n",
    "    tree = ET.ElementTree(add)\n",
    "    ET.indent(tree, space=\"\\t\", level=0)\n",
    "    tree.write(path, xml_declaration=False, encoding='utf-8', method='xml')\n",
    "\n",
    "# Create XML for the search and for the golden set and export to fs\n",
    "dfToXmlExport(search_set, './data/search_set.xml')\n",
    "# dfToXmlExport(golden_set, './data/golden_set.xml')"
   ]
  },
  {
   "cell_type": "code",
   "execution_count": null,
   "id": "f69ad24f-693e-4451-af28-36e3d9b0af9e",
   "metadata": {
    "tags": []
   },
   "outputs": [],
   "source": [
    "'''\n",
    "import pandas as pd\n",
    "from xml.etree import ElementTree as ET\n",
    "\n",
    "# Load the dataset\n",
    "path = r'/home/jovyan/work/data/golden_set_original.json'\n",
    "df = pd.read_json(path)\n",
    "\n",
    "def setProperties(child, data, name, boost=1.0):\n",
    "    child.text = data\n",
    "    child.attrib = {'name':name, 'boost':boost}\n",
    "\n",
    "def xmlFromDf(df):\n",
    "    add = ET.Element('add')\n",
    "    for ind, row in df.iterrows():\n",
    "        doc = ET.SubElement(add, 'doc')\n",
    "    \n",
    "        f_id = ET.SubElement(doc, 'field')\n",
    "        setProperties(f_id, str(row['id']), 'id', '1.0')\n",
    "    \n",
    "        f_rel = ET.SubElement(doc, 'field')\n",
    "        setProperties(f_rel, str(row['release']), 'release', '1.0')\n",
    "\n",
    "        f_title = ET.SubElement(doc, 'field')\n",
    "        setProperties(f_title, str(row['title']), 'title', '4.0')\n",
    "\n",
    "        f_origin = ET.SubElement(doc, 'field')\n",
    "        setProperties(f_origin, str(row['origin']), 'origin', '1.0')\n",
    "\n",
    "        f_director = ET.SubElement(doc, 'field')\n",
    "        setProperties(f_director, str(row['director']), 'director', '1.0')\n",
    "\n",
    "        f_cast = ET.SubElement(doc, 'field')\n",
    "        setProperties(f_cast, str(row['cast']), 'cast', '1.0')\n",
    "        \n",
    "        f_genre = ET.SubElement(doc, 'field')\n",
    "        setProperties(f_genre, str(row['genre']), 'genre', '1.0')\n",
    "\n",
    "        f_wikipage = ET.SubElement(doc, 'field')\n",
    "        setProperties(f_wikipage, str(row['wikipage']), 'wikipage', '1.0')\n",
    "\n",
    "        f_plot = ET.SubElement(doc, 'field')\n",
    "        setProperties(f_plot, str(row['plot']), 'plot', '2.0')    \n",
    "    return add\n",
    "\n",
    "add = xmlFromDf(df)\n",
    "\n",
    "# print(ET.tostring(add))\n",
    "tree = ET.ElementTree(add)\n",
    "ET.indent(tree, space=\"\\t\", level=0)\n",
    "tree.write('./data/golden_set.xml', xml_declaration=False, encoding='utf-8', method='xml')\n",
    "'''"
   ]
  },
  {
   "cell_type": "code",
   "execution_count": null,
   "id": "a0a413ee-a70a-44aa-a215-c15a22d78ff3",
   "metadata": {},
   "outputs": [],
   "source": []
  }
 ],
 "metadata": {
  "kernelspec": {
   "display_name": "Python 3 (ipykernel)",
   "language": "python",
   "name": "python3"
  },
  "language_info": {
   "codemirror_mode": {
    "name": "ipython",
    "version": 3
   },
   "file_extension": ".py",
   "mimetype": "text/x-python",
   "name": "python",
   "nbconvert_exporter": "python",
   "pygments_lexer": "ipython3",
   "version": "3.10.10"
  }
 },
 "nbformat": 4,
 "nbformat_minor": 5
}
