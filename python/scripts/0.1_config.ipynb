{
 "cells": [
  {
   "cell_type": "markdown",
   "id": "c186a3ba",
   "metadata": {},
   "source": [
    "### Config\n",
    "Globale Parameter für die Semesterarbeit"
   ]
  },
  {
   "cell_type": "markdown",
   "id": "7e2d96b6",
   "metadata": {},
   "source": [
    "##### Parameter für das golden Set"
   ]
  },
  {
   "cell_type": "code",
   "execution_count": null,
   "id": "e2cbc9eb",
   "metadata": {},
   "outputs": [],
   "source": [
    "goldenset = 'Sema_Movieplots_Golden'\n",
    "golden_signals = '/home/jovyan/sema/python/data/golden_signals.json'"
   ]
  },
  {
   "cell_type": "markdown",
   "id": "1d1e7183",
   "metadata": {},
   "source": [
    "##### Parameter für das komplette Set"
   ]
  },
  {
   "cell_type": "code",
   "execution_count": 2,
   "id": "a43fe5d5",
   "metadata": {},
   "outputs": [],
   "source": [
    "fullset = 'Sema_Movieplots_Full'\n",
    "full_signals = '/home/jovyan/sema/python/data/full_signals.json'"
   ]
  },
  {
   "cell_type": "markdown",
   "id": "28c0f9f5",
   "metadata": {},
   "source": [
    "##### Allgemeine Parameter"
   ]
  },
  {
   "cell_type": "code",
   "execution_count": 4,
   "id": "bb9d7f40",
   "metadata": {},
   "outputs": [],
   "source": [
    "url = 'http://host.docker.internal:11111/solr'\n",
    "\n",
    "fields = [\n",
    "    \"id\", #0\n",
    "    \"release\", #1\n",
    "    \"title\", #2\n",
    "    \"origin\", #3\n",
    "    \"director\", #4\n",
    "    \"cast\", #5\n",
    "    \"genre\", #6\n",
    "    \"wikipage\", #7\n",
    "    \"plot\", #8\n",
    "    \"fulltext_search\" #9\n",
    "]\n",
    "\n",
    "collection = fullset\n",
    "signals_path = full_signals\n",
    "\n",
    "qf = [fields[9]]\n",
    "field = fields[9]"
   ]
  },
  {
   "cell_type": "code",
   "execution_count": null,
   "id": "60b8d7b5",
   "metadata": {},
   "outputs": [],
   "source": []
  }
 ],
 "metadata": {
  "kernelspec": {
   "display_name": "Python 3 (ipykernel)",
   "language": "python",
   "name": "python3"
  },
  "language_info": {
   "codemirror_mode": {
    "name": "ipython",
    "version": 3
   },
   "file_extension": ".py",
   "mimetype": "text/x-python",
   "name": "python",
   "nbconvert_exporter": "python",
   "pygments_lexer": "ipython3",
   "version": "3.10.10"
  }
 },
 "nbformat": 4,
 "nbformat_minor": 5
}
