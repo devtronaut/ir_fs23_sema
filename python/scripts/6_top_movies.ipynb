{
 "cells": [
  {
   "cell_type": "code",
   "execution_count": 18,
   "id": "0efafac5",
   "metadata": {},
   "outputs": [],
   "source": [
    "import pandas as pd\n",
    "import requests\n",
    "from datetime import datetime, timedelta"
   ]
  },
  {
   "cell_type": "code",
   "execution_count": 19,
   "id": "0280c62c",
   "metadata": {},
   "outputs": [],
   "source": [
    "def get_top_signals(count):\n",
    "    df = pd.read_json(signals_path)\n",
    "    past = datetime.now() - timedelta(days=30)\n",
    "    past_str = past.strftime(\"%m/%d/%Y, %H:%M:%S\")\n",
    "    df_latest = df.loc[(df['date'] > past_str)]\n",
    "    return df_latest.groupby('target_id')['session_id'].nunique().sort_values(ascending=False).head(count)"
   ]
  },
  {
   "cell_type": "code",
   "execution_count": 23,
   "id": "1959111d",
   "metadata": {},
   "outputs": [],
   "source": [
    "def query_top_movies(count=10):\n",
    "    top_signals = get_top_signals(count)\n",
    "\n",
    "    top_movies_query = ''\n",
    "    for id in top_signals.index:\n",
    "        if len(top_movies_query) > 0: top_movies_query += \" \"\n",
    "        top_movies_query += '\"' + str(id) + '\"^' + str(top_signals[id])\n",
    "    \n",
    "    request = {\n",
    "        \"query\": top_movies_query,\n",
    "        \"fields\": [\"id\", \"title\", \"origin\", \"release\", \"director\", \"cast\"],\n",
    "        \"params\": {\n",
    "            \"qf\": \"id\",\n",
    "            \"hl\": False,\n",
    "            \"mlt\": False\n",
    "        }\n",
    "    }\n",
    "    \n",
    "    top_movies = requests.post(f\"{url}/{collection}/search\", json=request).json()\n",
    "    return top_movies"
   ]
  },
  {
   "cell_type": "code",
   "execution_count": null,
   "id": "ab77ea9e",
   "metadata": {},
   "outputs": [],
   "source": []
  }
 ],
 "metadata": {
  "kernelspec": {
   "display_name": "Python 3 (ipykernel)",
   "language": "python",
   "name": "python3"
  },
  "language_info": {
   "codemirror_mode": {
    "name": "ipython",
    "version": 3
   },
   "file_extension": ".py",
   "mimetype": "text/x-python",
   "name": "python",
   "nbconvert_exporter": "python",
   "pygments_lexer": "ipython3",
   "version": "3.10.10"
  }
 },
 "nbformat": 4,
 "nbformat_minor": 5
}
