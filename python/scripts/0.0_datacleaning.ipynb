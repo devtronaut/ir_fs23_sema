{
 "cells": [
  {
   "cell_type": "code",
   "execution_count": 7,
   "id": "5b7ac9fb-92f4-40ce-b83d-6d07def854c3",
   "metadata": {
    "tags": []
   },
   "outputs": [],
   "source": [
    "# Load the dataset (dataframe; DF), apply first measures to reduce the quantity of document entities (DE)\n",
    "\n",
    "import pandas as pd\n",
    "from xml.etree import ElementTree as ET\n",
    "\n",
    "# Load the dataset\n",
    "path = r'/home/jovyan/sema/python/data/wiki_movie_plots_deduped.csv'\n",
    "df = pd.read_csv(path)\n",
    "\n",
    "# First stage of reduction: eliminate unknown and NaN values, only use DE from 2000 onwards\n",
    "res = df[\n",
    "            (df['Director'] != 'Unknown') & \n",
    "            (df['Cast'] != 'NaN') & \n",
    "            (df['Genre'] != 'unknown') & \n",
    "            (df['Release Year'] >= 2000)\n",
    "]\n",
    "\n",
    "# Make index column\n",
    "res.reset_index(drop=True, inplace=True)\n",
    "res.reset_index(inplace=True)"
   ]
  },
  {
   "cell_type": "code",
   "execution_count": 8,
   "id": "41d8dcb7-f2d3-4b2e-af08-28e813432ab4",
   "metadata": {
    "tags": []
   },
   "outputs": [
    {
     "name": "stdout",
     "output_type": "stream",
     "text": [
      "Keys: Release Year, Title, Origin/Ethnicity, Director, Cast, Genre, Wiki Page, Plot\n",
      "Number of DE: 9975\n"
     ]
    }
   ],
   "source": [
    "# Get to know the remaining DE\n",
    "# Print keys of DF\n",
    "keys = list(df.keys())\n",
    "print(f'Keys: {\", \".join(keys)}')\n",
    "\n",
    "# Print # of DE\n",
    "print(f'Number of DE: {len(res)}')"
   ]
  },
  {
   "cell_type": "code",
   "execution_count": 9,
   "id": "68c6feba-3c1c-4d35-ad00-fe7af445e10a",
   "metadata": {
    "tags": []
   },
   "outputs": [
    {
     "name": "stdout",
     "output_type": "stream",
     "text": [
      "Release Year\n",
      "2000    372\n",
      "2001    350\n",
      "2002    363\n",
      "2003    349\n",
      "2004    439\n",
      "2005    424\n",
      "2006    627\n",
      "2007    570\n",
      "2008    552\n",
      "2009    659\n",
      "2010    662\n",
      "2011    691\n",
      "2012    693\n",
      "2013    817\n",
      "2014    712\n",
      "2015    531\n",
      "2016    558\n",
      "2017    606\n",
      "Name: count, dtype: int64\n"
     ]
    }
   ],
   "source": [
    "# Get count of movies (#m) by release year\n",
    "print(res['Release Year'].value_counts().sort_index())"
   ]
  },
  {
   "cell_type": "code",
   "execution_count": 10,
   "id": "ff7a2d12-a38b-4814-98cf-65ebe1d0b239",
   "metadata": {
    "tags": []
   },
   "outputs": [
    {
     "name": "stdout",
     "output_type": "stream",
     "text": [
      "#Movies by Origin/Ethnicity: \n",
      "Origin/Ethnicity\n",
      "American       3744\n",
      "Bollywood       956\n",
      "Tamil           777\n",
      "Telugu          706\n",
      "Malayalam       546\n",
      "Japanese        464\n",
      "Canadian        439\n",
      "Chinese         411\n",
      "British         375\n",
      "Bengali         250\n",
      "Australian      236\n",
      "Kannada         209\n",
      "Hong Kong       205\n",
      "Russian         152\n",
      "Marathi         137\n",
      "Filipino        128\n",
      "Bangladeshi      72\n",
      "Punjabi          65\n",
      "Turkish          59\n",
      "Malaysian        33\n",
      "Assamese          9\n",
      "Maldivian         2\n",
      "Name: count, dtype: int64\n"
     ]
    }
   ],
   "source": [
    "# Get #m by origin/ethnicity\n",
    "e = res['Origin/Ethnicity']\n",
    "\n",
    "mov_by_eth = e.value_counts()\n",
    "print(f'#Movies by Origin/Ethnicity: \\n{mov_by_eth}')"
   ]
  },
  {
   "cell_type": "code",
   "execution_count": 11,
   "id": "7657fe66-c910-4c69-b02e-5e685aa90c53",
   "metadata": {
    "tags": []
   },
   "outputs": [
    {
     "name": "stdout",
     "output_type": "stream",
     "text": [
      "#Movies by Director: \n",
      "Director\n",
      "Puri Jagannadh             24\n",
      "Priyadarshan               20\n",
      "Ridley Scott               15\n",
      "Tyler Perry                15\n",
      "Ram Gopal Varma            15\n",
      "                           ..\n",
      "Ma Yuan, Dong Dake          1\n",
      "Adrian Kwan                 1\n",
      "Peng Sanyuan                1\n",
      "Will Speck, Josh Gordon     1\n",
      "Ferzan Özpetek              1\n",
      "Name: count, Length: 6023, dtype: int64\n"
     ]
    }
   ],
   "source": [
    "# Get #m by director\n",
    "d = res['Director'].str.replace('/', ',')\n",
    "\n",
    "dir_with_slash = d[d.str.contains('/')]\n",
    "assert \\\n",
    "    len(dir_with_slash) == 0, \\\n",
    "    f\"There are still lists of directors, separated with a '/' instead of ','!\"\n",
    "\n",
    "mov_by_director = d.value_counts()\n",
    "print(f'#Movies by Director: \\n{mov_by_director}')"
   ]
  },
  {
   "cell_type": "code",
   "execution_count": 12,
   "id": "fb1f5e59-bd49-40c7-b0f3-2f3b95491adf",
   "metadata": {
    "tags": []
   },
   "outputs": [
    {
     "name": "stdout",
     "output_type": "stream",
     "text": [
      "#Movies by Genre: \n",
      "Genre\n",
      "drama                               1642\n",
      "comedy                              1186\n",
      "romance                              592\n",
      "action                               542\n",
      "thriller                             450\n",
      "                                    ... \n",
      "drama , comedy , action                1\n",
      "drama , animation , fantasy            1\n",
      "comedy , adventure                     1\n",
      "animation , music                      1\n",
      "adventure, romance, fantasy film       1\n",
      "Name: count, Length: 1574, dtype: int64\n"
     ]
    }
   ],
   "source": [
    "# Get #m by genre\n",
    "g = res['Genre'].str.replace('/', ',')\n",
    "\n",
    "genr_with_slash = g[g.str.contains('/')]\n",
    "assert \\\n",
    "    len(genr_with_slash) == 0, \\\n",
    "    f\"There are still lists of genres, separated with a '/' instead of ','!\"\n",
    "\n",
    "mov_by_genre = g.value_counts()\n",
    "print(f'#Movies by Genre: \\n{mov_by_genre}')"
   ]
  },
  {
   "cell_type": "code",
   "execution_count": 20,
   "id": "59692cf4-02ee-4e18-8ecd-b5dbe1b76093",
   "metadata": {
    "tags": []
   },
   "outputs": [
    {
     "name": "stdout",
     "output_type": "stream",
     "text": [
      "      index  Release Year                 Title Origin/Ethnicity   \n",
      "0      2480          2011           Margin Call         American  \\\n",
      "1      3212          2014      Ping Pong Summer         American   \n",
      "2      2549          2011       We Bought a Zoo         American   \n",
      "3      6719          2014                Haider        Bollywood   \n",
      "4      3196          2014         Walk of Shame         American   \n",
      "...     ...           ...                   ...              ...   \n",
      "4995   6443          2011     Pyar ka Punchnama        Bollywood   \n",
      "4996   1677          2007         Lust, Caution         American   \n",
      "4997   2216          2010            Date Night         American   \n",
      "4998   3104          2013  Thor: The Dark World         American   \n",
      "4999   8386          2015          Kaaka Muttai            Tamil   \n",
      "\n",
      "             Director                                               Cast   \n",
      "0        J.C. Chandor  Kevin Spacey, Paul Bettany, Jeremy Irons, Zach...  \\\n",
      "1       Michael Tully  Susan Sarandon\\r\\nJohn Hannah\\r\\nLea Thompson\\...   \n",
      "2       Cameron Crowe  Matt Damon, Scarlett Johansson, Thomas Haden C...   \n",
      "3     Vishal Bhardwaj  Tabu, Shahid Kapoor, Shraddha Kapoor, Kay Kay ...   \n",
      "4        Steven Brill  Elizabeth Banks\\r\\nJames Marsden\\r\\nGillian Ja...   \n",
      "...               ...                                                ...   \n",
      "4995       Luv Ranjan  Kartik Aaryan, Rayo Bhakhirta, Divyendu Sharma...   \n",
      "4996          Ang Lee  Tony Leung Chiu-Wai, Tang Wei, Joan Chen, Leeh...   \n",
      "4997       Shawn Levy                             Steve Carell, Tina Fey   \n",
      "4998      Alan Taylor  Chris Hemsworth, Natalie Portman, Tom Hiddlest...   \n",
      "4999    M. Manikandan                  Vignesh, Ramesh, Aishwarya Rajesh   \n",
      "\n",
      "               Genre                                          Wiki Page   \n",
      "0              drama   https://en.wikipedia.org/wiki/Margin_Call_(film)  \\\n",
      "1             comedy     https://en.wikipedia.org/wiki/Ping_Pong_Summer   \n",
      "2       comedy-drama      https://en.wikipedia.org/wiki/We_Bought_a_Zoo   \n",
      "3              drama        https://en.wikipedia.org/wiki/Haider_(film)   \n",
      "4             comedy  https://en.wikipedia.org/wiki/Walk_of_Shame_(f...   \n",
      "...              ...                                                ...   \n",
      "4995  romance,comedy    https://en.wikipedia.org/wiki/Pyar_ka_Punchnama   \n",
      "4996        thriller        https://en.wikipedia.org/wiki/Lust,_Caution   \n",
      "4997   action comedy           https://en.wikipedia.org/wiki/Date_Night   \n",
      "4998       superhero  https://en.wikipedia.org/wiki/Thor:_The_Dark_W...   \n",
      "4999    comedy drama         https://en.wikipedia.org/wiki/Kaaka_Muttai   \n",
      "\n",
      "                                                   Plot  \n",
      "0     An unnamed investment bank begins a mass layof...  \n",
      "1     In 1985, 13-year-old Rad Miracle goes on a sum...  \n",
      "2     Benjamin Mee is still grieving the loss of his...  \n",
      "3     In 1995, during the insurgency in Kashmir, Hil...  \n",
      "4     Meghan Miles (Banks) is a field reporter for K...  \n",
      "...                                                 ...  \n",
      "4995  Rajat \"Rajjo\" Mridul (Kartik Aaryan), Nishant ...  \n",
      "4996  Hong Kong 1938\\r\\nDuring the Second Sino-Japan...  \n",
      "4997  Phil and Claire Foster (Steve Carell and Tina ...  \n",
      "4998  Eons ago, Bor, father of Odin, clashes with th...  \n",
      "4999  In a tiny concrete-and-tin Chennai home in the...  \n",
      "\n",
      "[5000 rows x 9 columns]\n"
     ]
    },
    {
     "ename": "NameError",
     "evalue": "name 'false' is not defined",
     "output_type": "error",
     "traceback": [
      "\u001b[0;31m---------------------------------------------------------------------------\u001b[0m",
      "\u001b[0;31mNameError\u001b[0m                                 Traceback (most recent call last)",
      "Cell \u001b[0;32mIn[20], line 74\u001b[0m\n\u001b[1;32m     70\u001b[0m     ET\u001b[38;5;241m.\u001b[39mindent(tree, space\u001b[38;5;241m=\u001b[39m\u001b[38;5;124m\"\u001b[39m\u001b[38;5;130;01m\\t\u001b[39;00m\u001b[38;5;124m\"\u001b[39m, level\u001b[38;5;241m=\u001b[39m\u001b[38;5;241m0\u001b[39m)\n\u001b[1;32m     71\u001b[0m     \u001b[38;5;66;03m# tree.write(path, xml_declaration=False, encoding='utf-8', method='xml')\u001b[39;00m\n\u001b[1;32m     72\u001b[0m \n\u001b[1;32m     73\u001b[0m \u001b[38;5;66;03m# Create XML for the search and for the golden set and export to fs\u001b[39;00m\n\u001b[0;32m---> 74\u001b[0m \u001b[43mdfToXmlExport\u001b[49m\u001b[43m(\u001b[49m\u001b[43msearch_set\u001b[49m\u001b[43m,\u001b[49m\u001b[43m \u001b[49m\u001b[38;5;124;43m'\u001b[39;49m\u001b[38;5;124;43m./data/search_set.xml\u001b[39;49m\u001b[38;5;124;43m'\u001b[39;49m\u001b[43m)\u001b[49m\n\u001b[1;32m     75\u001b[0m \u001b[38;5;66;03m# dfToXmlExport(golden_set, './data/golden_set.xml')\u001b[39;00m\n",
      "Cell \u001b[0;32mIn[20], line 63\u001b[0m, in \u001b[0;36mdfToXmlExport\u001b[0;34m(df, path)\u001b[0m\n\u001b[1;32m     62\u001b[0m \u001b[38;5;28;01mdef\u001b[39;00m \u001b[38;5;21mdfToXmlExport\u001b[39m(df, path):\n\u001b[0;32m---> 63\u001b[0m     test \u001b[38;5;241m=\u001b[39m df\u001b[38;5;241m.\u001b[39mreset_index(drop\u001b[38;5;241m=\u001b[39m\u001b[38;5;28;01mTrue\u001b[39;00m, inplace\u001b[38;5;241m=\u001b[39m\u001b[43mfalse\u001b[49m)\n\u001b[1;32m     64\u001b[0m     test\u001b[38;5;241m.\u001b[39mreset_index(inplace\u001b[38;5;241m=\u001b[39m\u001b[38;5;28;01mTrue\u001b[39;00m)\n\u001b[1;32m     65\u001b[0m     \u001b[38;5;28mprint\u001b[39m(test)\n",
      "\u001b[0;31mNameError\u001b[0m: name 'false' is not defined"
     ]
    }
   ],
   "source": [
    "'''\n",
    "Decision upon how to reduce the set to 5000 DE and of what measures to introduce before export:\n",
    "- Only consider plots of movies released in and after the year 2000\n",
    "- Further reduction of plots by a factor of 0.5, respecting the movies per origin/ethnicity proportion\n",
    "- Replace '/'-separators in lists of directors and genres by ','-separators\n",
    "'''\n",
    "# Work on a copy, as pandas throws errors otherwise\n",
    "res_copy = res.copy() \n",
    "\n",
    "# Replace '/'-separators in lists of directors and genres by ','-separators\n",
    "# Assert that replacements have taken place\n",
    "res_copy['Genre'] = res_copy['Genre'].str.replace('/', ',')\n",
    "res_copy['Director'] = res_copy['Director'].str.replace('/', ',')\n",
    "\n",
    "genr_w_slash = res_copy['Genre'][res_copy['Genre'].str.contains('/')]\n",
    "assert \\\n",
    "    len(genr_w_slash) == 0, \\\n",
    "    f\"There are still lists of genres, separated with a '/' instead of ','!\"\n",
    "\n",
    "dir_w_slash = res_copy['Director'][res_copy['Director'].str.contains('/')]\n",
    "assert \\\n",
    "    len(dir_w_slash) == 0, \\\n",
    "    f\"There are still lists of directors, separated with a '/' instead of ','!\"\n",
    "\n",
    "# Extend the dataframe with a new columns holding the count of movies by origin/ethnicity\n",
    "# The 'Eth_Counts'-column will be used as the weight for the sample\n",
    "res_copy['Eth_Counts'] = e.map(e.value_counts())\n",
    "\n",
    "# Get a sample of 5000 DE for the search set\n",
    "search_set = res_copy.sample(n=5000, weights='Eth_Counts', ignore_index=True).drop(columns=['Eth_Counts'])\n",
    "print(search_set)\n",
    "\n",
    "# Get a sample of 10 DE for the golden set\n",
    "golden_set = res_copy.sample(n=10, weights='Eth_Counts', ignore_index=True).drop(columns=['Eth_Counts'])\n",
    "# print(golden_set[['id', 'title', 'origin']])\n",
    "\n",
    "def setProperties(parent, data, name):\n",
    "    child = ET.SubElement(parent, 'field')\n",
    "    child.text = data\n",
    "    child.attrib = {'name':name}\n",
    "\n",
    "def xmlFromDf(df):\n",
    "    print(len(df))\n",
    "    i = 0\n",
    "    add = ET.Element('add')\n",
    "    for ind, row in df.iterrows():\n",
    "        doc = ET.SubElement(add, 'doc')\n",
    "        f_id = setProperties(doc, str(row['index']), 'id')\n",
    "        f_rel = setProperties(doc, str(row['Release Year']), 'release')\n",
    "        f_title = setProperties(doc, str(row['Title']), 'title')\n",
    "        f_origin = setProperties(doc, str(row['Origin/Ethnicity']), 'origin')\n",
    "        f_director = setProperties(doc, str(row['Director']), 'director')\n",
    "        f_cast = setProperties(doc, str(row['Cast']), 'cast')\n",
    "        f_genre = setProperties(doc, str(row['Genre']), 'genre')\n",
    "        f_wikipage = setProperties(doc, str(row['Wiki Page']), 'wikipage')\n",
    "        f_plot = setProperties(doc, str(row['Plot']), 'plot')\n",
    "        i += 1\n",
    "    \n",
    "    print(i)\n",
    "    return add\n",
    "\n",
    "def dfToXmlExport(df, path):\n",
    "    test = df.reset_index(drop=True, inplace=false)\n",
    "    test.reset_index(inplace=True)\n",
    "    print(test)\n",
    "    \n",
    "    add = xmlFromDf(df)\n",
    "    print(add)\n",
    "    tree = ET.ElementTree(add)\n",
    "    ET.indent(tree, space=\"\\t\", level=0)\n",
    "    # tree.write(path, xml_declaration=False, encoding='utf-8', method='xml')\n",
    "\n",
    "# Create XML for the search and for the golden set and export to fs\n",
    "dfToXmlExport(search_set, './data/search_set.xml')\n",
    "# dfToXmlExport(golden_set, './data/golden_set.xml')"
   ]
  },
  {
   "cell_type": "code",
   "execution_count": null,
   "id": "f69ad24f-693e-4451-af28-36e3d9b0af9e",
   "metadata": {
    "tags": []
   },
   "outputs": [],
   "source": [
    "'''\n",
    "import pandas as pd\n",
    "from xml.etree import ElementTree as ET\n",
    "\n",
    "# Load the dataset\n",
    "path = r'/home/jovyan/work/data/golden_set_original.json'\n",
    "df = pd.read_json(path)\n",
    "\n",
    "def setProperties(child, data, name, boost=1.0):\n",
    "    child.text = data\n",
    "    child.attrib = {'name':name, 'boost':boost}\n",
    "\n",
    "def xmlFromDf(df):\n",
    "    add = ET.Element('add')\n",
    "    for ind, row in df.iterrows():\n",
    "        doc = ET.SubElement(add, 'doc')\n",
    "    \n",
    "        f_id = ET.SubElement(doc, 'field')\n",
    "        setProperties(f_id, str(row['id']), 'id', '1.0')\n",
    "    \n",
    "        f_rel = ET.SubElement(doc, 'field')\n",
    "        setProperties(f_rel, str(row['release']), 'release', '1.0')\n",
    "\n",
    "        f_title = ET.SubElement(doc, 'field')\n",
    "        setProperties(f_title, str(row['title']), 'title', '4.0')\n",
    "\n",
    "        f_origin = ET.SubElement(doc, 'field')\n",
    "        setProperties(f_origin, str(row['origin']), 'origin', '1.0')\n",
    "\n",
    "        f_director = ET.SubElement(doc, 'field')\n",
    "        setProperties(f_director, str(row['director']), 'director', '1.0')\n",
    "\n",
    "        f_cast = ET.SubElement(doc, 'field')\n",
    "        setProperties(f_cast, str(row['cast']), 'cast', '1.0')\n",
    "        \n",
    "        f_genre = ET.SubElement(doc, 'field')\n",
    "        setProperties(f_genre, str(row['genre']), 'genre', '1.0')\n",
    "\n",
    "        f_wikipage = ET.SubElement(doc, 'field')\n",
    "        setProperties(f_wikipage, str(row['wikipage']), 'wikipage', '1.0')\n",
    "\n",
    "        f_plot = ET.SubElement(doc, 'field')\n",
    "        setProperties(f_plot, str(row['plot']), 'plot', '2.0')    \n",
    "    return add\n",
    "\n",
    "add = xmlFromDf(df)\n",
    "\n",
    "# print(ET.tostring(add))\n",
    "tree = ET.ElementTree(add)\n",
    "ET.indent(tree, space=\"\\t\", level=0)\n",
    "tree.write('./data/golden_set.xml', xml_declaration=False, encoding='utf-8', method='xml')\n",
    "'''"
   ]
  },
  {
   "cell_type": "code",
   "execution_count": null,
   "id": "a0a413ee-a70a-44aa-a215-c15a22d78ff3",
   "metadata": {},
   "outputs": [],
   "source": []
  }
 ],
 "metadata": {
  "kernelspec": {
   "display_name": "Python 3 (ipykernel)",
   "language": "python",
   "name": "python3"
  },
  "language_info": {
   "codemirror_mode": {
    "name": "ipython",
    "version": 3
   },
   "file_extension": ".py",
   "mimetype": "text/x-python",
   "name": "python",
   "nbconvert_exporter": "python",
   "pygments_lexer": "ipython3",
   "version": "3.10.10"
  }
 },
 "nbformat": 4,
 "nbformat_minor": 5
}
