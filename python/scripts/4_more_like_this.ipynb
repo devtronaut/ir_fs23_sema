{
 "cells": [
  {
   "cell_type": "code",
   "execution_count": 61,
   "id": "7cd88f87",
   "metadata": {},
   "outputs": [],
   "source": [
    "import requests\n",
    "import json\n",
    "import string"
   ]
  },
  {
   "cell_type": "code",
   "execution_count": 2,
   "id": "f2ba8449",
   "metadata": {},
   "outputs": [],
   "source": [
    "def more_like_this(document_id):    \n",
    "    request = {\n",
    "        \"query\": document_id,\n",
    "        \"fields\": [\"id, title, release, cast, director, origin\"]\n",
    "    }\n",
    "\n",
    "    search_results = requests.post(f\"{url}/{collection}/search\", json=request).json()\n",
    "    return search_results['moreLikeThis']"
   ]
  },
  {
   "cell_type": "code",
   "execution_count": null,
   "id": "a1c8cce0",
   "metadata": {},
   "outputs": [],
   "source": []
  }
 ],
 "metadata": {
  "kernelspec": {
   "display_name": "Python 3 (ipykernel)",
   "language": "python",
   "name": "python3"
  },
  "language_info": {
   "codemirror_mode": {
    "name": "ipython",
    "version": 3
   },
   "file_extension": ".py",
   "mimetype": "text/x-python",
   "name": "python",
   "nbconvert_exporter": "python",
   "pygments_lexer": "ipython3",
   "version": "3.10.10"
  }
 },
 "nbformat": 4,
 "nbformat_minor": 5
}
