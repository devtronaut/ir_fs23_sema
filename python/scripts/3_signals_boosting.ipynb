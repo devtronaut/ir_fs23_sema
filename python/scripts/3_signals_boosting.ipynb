{
 "cells": [
  {
   "cell_type": "code",
   "execution_count": 1,
   "id": "5d6c995c",
   "metadata": {},
   "outputs": [],
   "source": [
    "import pandas as pd\n",
    "from datetime import datetime, timedelta"
   ]
  },
  {
   "cell_type": "code",
   "execution_count": 2,
   "id": "a8a03923",
   "metadata": {},
   "outputs": [],
   "source": [
    "def get_latest_signals():\n",
    "    df = pd.read_json(signals_path)\n",
    "    past = datetime.now() - timedelta(days=30)\n",
    "    past_str = past.strftime(\"%m/%d/%Y, %H:%M:%S\")\n",
    "    df_latest = df.loc[(df['date'] > past_str)]\n",
    "    return df_latest.groupby('target_id')['session_id'].nunique()"
   ]
  },
  {
   "cell_type": "code",
   "execution_count": 1,
   "id": "df945d19",
   "metadata": {},
   "outputs": [],
   "source": [
    "def search_signals_boosted(query, facet):\n",
    "    latest_signals = get_latest_signals().sort_values(ascending=False)\n",
    "    \n",
    "    results = search(query, facet)\n",
    "    expanded_query = create_expanded_query(query)\n",
    "    \n",
    "    signals_boost = ''\n",
    "    for doc in results['response']['docs']:\n",
    "        if len(signals_boost) > 0: signals_boost += \" \"\n",
    "        signals_boost += '\"' + doc['id'] + '\"^' + str(latest_signals[int(doc['id'])])\n",
    "    \n",
    "    request = {\n",
    "        \"query\": signals_boost,\n",
    "        \"fields\": [\"id\", \"title\", \"release\", \"origin\", \"director\", \"cast\", \"plot\"],\n",
    "        \"params\": {\n",
    "            \"qf\": \"id title plot\",\n",
    "            \"hl.q\": \"\\\"\" + query + \"\\\" \" + query,\n",
    "            \"hl.fl\": \"title plot\",\n",
    "            \"mlt\": False\n",
    "        }\n",
    "    }\n",
    "    \n",
    "    search_results = requests.post(f\"{url}/{collection}/search\", json=request).json()\n",
    "    return search_results"
   ]
  },
  {
   "cell_type": "code",
   "execution_count": null,
   "id": "1ac9b73e",
   "metadata": {},
   "outputs": [],
   "source": []
  }
 ],
 "metadata": {
  "kernelspec": {
   "display_name": "Python 3 (ipykernel)",
   "language": "python",
   "name": "python3"
  },
  "language_info": {
   "codemirror_mode": {
    "name": "ipython",
    "version": 3
   },
   "file_extension": ".py",
   "mimetype": "text/x-python",
   "name": "python",
   "nbconvert_exporter": "python",
   "pygments_lexer": "ipython3",
   "version": "3.10.10"
  }
 },
 "nbformat": 4,
 "nbformat_minor": 5
}
