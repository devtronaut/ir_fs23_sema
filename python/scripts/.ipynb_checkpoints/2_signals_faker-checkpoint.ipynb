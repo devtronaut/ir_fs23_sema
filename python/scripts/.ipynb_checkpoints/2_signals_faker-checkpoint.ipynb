{
 "cells": [
  {
   "cell_type": "code",
   "execution_count": 1,
   "id": "0ed46fdd",
   "metadata": {
    "tags": []
   },
   "outputs": [
    {
     "name": "stdout",
     "output_type": "stream",
     "text": [
      "Requirement already satisfied: faker in /opt/conda/lib/python3.10/site-packages (18.9.0)\n",
      "Requirement already satisfied: python-dateutil>=2.4 in /opt/conda/lib/python3.10/site-packages (from faker) (2.8.2)\n",
      "Requirement already satisfied: six>=1.5 in /opt/conda/lib/python3.10/site-packages (from python-dateutil>=2.4->faker) (1.16.0)\n",
      "\n",
      "\u001b[1m[\u001b[0m\u001b[34;49mnotice\u001b[0m\u001b[1;39;49m]\u001b[0m\u001b[39;49m A new release of pip is available: \u001b[0m\u001b[31;49m23.1\u001b[0m\u001b[39;49m -> \u001b[0m\u001b[32;49m23.1.2\u001b[0m\n",
      "\u001b[1m[\u001b[0m\u001b[34;49mnotice\u001b[0m\u001b[1;39;49m]\u001b[0m\u001b[39;49m To update, run: \u001b[0m\u001b[32;49mpip install --upgrade pip\u001b[0m\n",
      "Requirement already satisfied: uuid in /opt/conda/lib/python3.10/site-packages (1.30)\n",
      "\n",
      "\u001b[1m[\u001b[0m\u001b[34;49mnotice\u001b[0m\u001b[1;39;49m]\u001b[0m\u001b[39;49m A new release of pip is available: \u001b[0m\u001b[31;49m23.1\u001b[0m\u001b[39;49m -> \u001b[0m\u001b[32;49m23.1.2\u001b[0m\n",
      "\u001b[1m[\u001b[0m\u001b[34;49mnotice\u001b[0m\u001b[1;39;49m]\u001b[0m\u001b[39;49m To update, run: \u001b[0m\u001b[32;49mpip install --upgrade pip\u001b[0m\n"
     ]
    }
   ],
   "source": [
    "# Install a pip package in the current Jupyter kernel\n",
    "import sys\n",
    "!{sys.executable} -m pip install faker\n",
    "!{sys.executable} -m pip install uuid"
   ]
  },
  {
   "cell_type": "markdown",
   "id": "47fbe047",
   "metadata": {},
   "source": [
    "### User Signale generieren\n",
    "\n",
    "##### Problemstellung\n",
    "Für die Semesterarbeit steht keine Nutzergruppe zur Verfügung, die Nutzersignale generieren kann.\n",
    "\n",
    "##### Lösungsansatz\n",
    "Die Nutzungssignale werden einmal für das Golden Set und den kompletten Korpus pseudo-zufällig generiert.\n",
    "Der Autor wählt die Libraries uuid, faker und random für die Generierung der Signale\n",
    "\n",
    "##### Struktur\n",
    "Im Rahmen des Anwendungsfalls (Film-Datenbank) existieren nur Klick-Signale. Die Klick-Signale werden mit folgender Datenstruktur erfasst:\n",
    "\n",
    "```json\n",
    "{\n",
    "    signal_id: <ID für jedes einzelne Signal>,\n",
    "    target_id: <ID der geklickten Dokumenteinheit>,\n",
    "    session_id: <ID der Session innerhalb derer der Klick erfolgt ist>,\n",
    "    type: <Typ des Signals>,\n",
    "    date: <Zeitpunkt des Signals>\n",
    "}\n",
    "```\n",
    "\n",
    "##### Annahmen\n",
    "Für die Generierung der Signale werden folgende Parameter angenommen:\n",
    "- 50 verschiedene Sessions"
   ]
  },
  {
   "cell_type": "code",
   "execution_count": 2,
   "id": "0d70eb52",
   "metadata": {
    "tags": []
   },
   "outputs": [],
   "source": [
    "from faker import Faker\n",
    "import json\n",
    "import uuid\n",
    "import random\n",
    "from datetime import datetime\n",
    "import numpy as np\n",
    "\n",
    "fake = Faker()\n",
    "\n",
    "def create_signals(number_of_targets, file_name):\n",
    "    signals = []\n",
    "    session_ids = []\n",
    "    \n",
    "    for i in range(50):\n",
    "        session_ids.append(str(uuid.uuid4()))\n",
    "\n",
    "    for i in range(number_of_targets):\n",
    "        number_of_signals = random.randint(10, 200)\n",
    "        \n",
    "        for _ in range(number_of_signals):\n",
    "            session = random.randint(0, 49)\n",
    "            session_id = session_ids[session]\n",
    "            \n",
    "            signals.append({\n",
    "                'signal_id': str(uuid.uuid4()),\n",
    "                'target_id': i,\n",
    "                'session_id': session_id,\n",
    "                'type': 'click',\n",
    "                'date': fake.date_time_between('-60d').strftime(\"%m/%d/%Y, %H:%M:%S\")\n",
    "            })\n",
    "        \n",
    "    ser_signals = json.dumps(signals, indent=2)\n",
    "    \n",
    "    path = '/home/jovyan/sema/python/data/'    \n",
    "    with open(path + file_name, \"w\") as file:\n",
    "        file.write(ser_signals)\n",
    "        \n",
    "    return signals"
   ]
  },
  {
   "cell_type": "markdown",
   "id": "044b1a3a",
   "metadata": {},
   "source": [
    "#### ACHTUNG\n",
    "Folgende beide Zellen nur auskommentieren, um die JSON-Dateien mit den Nutzersignalen zu erstellen.\n",
    "Besonders die Generierung der Signale für das komplette Set kann abhängig vom System viel Zeit in Anspruch nehmen."
   ]
  },
  {
   "cell_type": "code",
   "execution_count": 3,
   "id": "7a6337e3",
   "metadata": {
    "tags": []
   },
   "outputs": [],
   "source": [
    "# golden_signals = create_signals(10, 'golden_signals.json')"
   ]
  },
  {
   "cell_type": "code",
   "execution_count": 4,
   "id": "aa903b5c",
   "metadata": {
    "tags": []
   },
   "outputs": [],
   "source": [
    "# full_signals = create_signals(5000, 'full_signals.json')"
   ]
  }
 ],
 "metadata": {
  "kernelspec": {
   "display_name": "Python 3 (ipykernel)",
   "language": "python",
   "name": "python3"
  },
  "language_info": {
   "codemirror_mode": {
    "name": "ipython",
    "version": 3
   },
   "file_extension": ".py",
   "mimetype": "text/x-python",
   "name": "python",
   "nbconvert_exporter": "python",
   "pygments_lexer": "ipython3",
   "version": "3.10.10"
  }
 },
 "nbformat": 4,
 "nbformat_minor": 5
}
