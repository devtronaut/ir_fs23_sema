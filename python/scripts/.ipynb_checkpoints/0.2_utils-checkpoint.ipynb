{
 "cells": [
  {
   "cell_type": "markdown",
   "id": "b99790ea",
   "metadata": {},
   "source": [
    "### Utils\n",
    "Utility Funktionen für die Darstellung von Suchergebnissen."
   ]
  },
  {
   "cell_type": "code",
   "execution_count": null,
   "id": "9240e3ed",
   "metadata": {},
   "outputs": [],
   "source": [
    "import requests\n",
    "import json\n",
    "import string\n",
    "from IPython.display import display, HTML"
   ]
  },
  {
   "cell_type": "markdown",
   "id": "acb96ce6",
   "metadata": {},
   "source": [
    "#### Facetten\n",
    "Stellt Facetten als HTML-Checkboxes dar."
   ]
  },
  {
   "cell_type": "code",
   "execution_count": 2,
   "id": "fb69f0bc",
   "metadata": {},
   "outputs": [],
   "source": [
    "def pretty_print_facets(search_results):\n",
    "    if 'facet_counts' not in search_results or search_results['facet_counts'] == 0:\n",
    "        return\n",
    "    \n",
    "    facets = search_results['facet_counts']['facet_fields']\n",
    "    display(HTML(\"<h3><u>Facets</u></h3>\"))\n",
    "    if \"genre_facet\" in facets:\n",
    "        display(HTML(\"<h4>Genres</h4>\"))\n",
    "        genre = facets[\"genre_facet\"]\n",
    "        for i in range(0, min(10, len(genre)), 2):\n",
    "            display(HTML(f\"<input type='checkbox'> {genre[i]}</input> ({genre[i+1]})\"))\n",
    "            \n",
    "        if len(genre) > 10:\n",
    "            display(HTML(f\"<p>Show more... </p>\"))\n",
    "    if \"origin_facet\" in facets:\n",
    "        display(HTML(\"<h4>Origins</h4>\"))\n",
    "        origin = facets[\"origin_facet\"]\n",
    "        for i in range(0, min(10, len(origin)), 2):\n",
    "            display(HTML(f\"<input type='checkbox'> {origin[i]}</input> ({origin[i+1]})\"))\n",
    "            \n",
    "        if len(origin) > 10:\n",
    "            display(HTML(f\"<p>Show more... </p>\"))\n",
    "    if \"release_facet\" in facets:\n",
    "        display(HTML(\"<h4>Release Years</h4>\"))\n",
    "        release = facets[\"release_facet\"]\n",
    "        for i in range(0, min(10, len(release)), 2):\n",
    "            display(HTML(f\"<input type='checkbox'> {release[i]}</input> ({release[i+1]})\"))\n",
    "            \n",
    "        if len(release) > 10:\n",
    "            display(HTML(f\"<p>Show more... </p>\"))"
   ]
  },
  {
   "cell_type": "markdown",
   "id": "06546461",
   "metadata": {},
   "source": [
    "#### Resultate\n",
    "Stellt die Suchergebnisse als Liste dar."
   ]
  },
  {
   "cell_type": "code",
   "execution_count": 3,
   "id": "7045bb49",
   "metadata": {},
   "outputs": [],
   "source": [
    "def pretty_print_docs(search_results):\n",
    "    highlights = search_results['highlighting']\n",
    "    for doc in search_results['response']['docs']:\n",
    "        doc_hl = highlights[doc['id']]\n",
    "        title = doc_hl['title'][0] if \"title\" in doc_hl else doc['title']\n",
    "        plot = doc_hl['plot'][0] if \"plot\" in doc_hl else doc['plot']\n",
    "\n",
    "        display(HTML(\"<hr/>\"))\n",
    "        display(HTML(f\"<h4 style='display:inline-block'>{doc['id']} {title}</h4> <span>({doc['origin']}, {doc['release']})</span>\"))  \n",
    "        display(HTML(f\"<p>Director: {doc['director']} <br>Cast: {doc['cast']}</p>\"))\n",
    "        display(HTML(f\"<p>{plot[0:500]} ...<p>\"))"
   ]
  },
  {
   "cell_type": "code",
   "execution_count": 9,
   "id": "0ce32da7",
   "metadata": {},
   "outputs": [],
   "source": [
    "def pretty_print_docs_without_highlights(search_results):\n",
    "    display(HTML(\"<h2>Top Movies</h2>\"))\n",
    "    for doc in search_results['response']['docs']:\n",
    "        display(HTML(f\"<h4 style='display:inline-block'>{doc['id']} {doc['title']}</h4> <span>({doc['origin']}, {doc['release']})</span>\"))  \n",
    "        display(HTML(f\"<p>Director: {doc['director']} <br>Cast: {doc['cast']}</p>\"))\n",
    "        display(HTML(\"<hr/>\"))"
   ]
  },
  {
   "cell_type": "code",
   "execution_count": 10,
   "id": "70bb0f2b",
   "metadata": {},
   "outputs": [],
   "source": [
    "def pretty_print_spellcheck(spellcheck):\n",
    "    display(HTML(\"<hr/>\"))\n",
    "    display(HTML(f\"<h6>{spellcheck}</h6><br/>\"))"
   ]
  },
  {
   "cell_type": "code",
   "execution_count": 12,
   "id": "eec7c372",
   "metadata": {},
   "outputs": [],
   "source": [
    "def pretty_print_similar_movies(similar_movies):\n",
    "    for movie in similar_movies:\n",
    "        for doc in similar_movies[movie]['docs']:\n",
    "            display(HTML(f\"<h4 style='display:inline-block'>{doc['id']} {doc['title']}</h4> <span>({doc['origin']}, {doc['release']})</span>\"))  \n",
    "            display(HTML(f\"<p>Director: {doc['director']} <br>Cast: {doc['cast']}</p>\"))\n",
    "            display(HTML(\"<hr/>\"))"
   ]
  },
  {
   "cell_type": "code",
   "execution_count": null,
   "id": "b18a104d",
   "metadata": {},
   "outputs": [],
   "source": []
  },
  {
   "cell_type": "code",
   "execution_count": null,
   "id": "9dc078ae",
   "metadata": {},
   "outputs": [],
   "source": []
  }
 ],
 "metadata": {
  "kernelspec": {
   "display_name": "Python 3 (ipykernel)",
   "language": "python",
   "name": "python3"
  },
  "language_info": {
   "codemirror_mode": {
    "name": "ipython",
    "version": 3
   },
   "file_extension": ".py",
   "mimetype": "text/x-python",
   "name": "python",
   "nbconvert_exporter": "python",
   "pygments_lexer": "ipython3",
   "version": "3.10.10"
  }
 },
 "nbformat": 4,
 "nbformat_minor": 5
}
