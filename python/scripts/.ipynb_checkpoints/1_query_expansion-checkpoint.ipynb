{
 "cells": [
  {
   "cell_type": "code",
   "execution_count": 4,
   "id": "ad6da723",
   "metadata": {
    "tags": []
   },
   "outputs": [],
   "source": [
    "import requests\n",
    "import json\n",
    "import string"
   ]
  },
  {
   "cell_type": "code",
   "execution_count": 7,
   "id": "60cd9a6a",
   "metadata": {
    "tags": []
   },
   "outputs": [],
   "source": [
    "def get_query_tokens(query):\n",
    "    request = {\n",
    "        \"query\": query,\n",
    "        \"params\": {\n",
    "            \"rows\": 0,\n",
    "            \"debugQuery\": \"true\"\n",
    "        }\n",
    "    }\n",
    "        \n",
    "    results = requests.post(f\"{url}/{collection}/search\", json=request).json()\n",
    "    \n",
    "    if(\"error\" in results):\n",
    "        print(results['error']['msg'])\n",
    "        return\n",
    "    \n",
    "    if(\"debug\" not in results):\n",
    "        print(\"No debug section or no parsedQuery in debug section.\")\n",
    "        return;\n",
    "    \n",
    "    if(\"parsedquery_toString\" not in results[\"debug\"]):\n",
    "        print(\"No parsedQuery in debug section.\")\n",
    "        return\n",
    "        \n",
    "    query_tokens = []\n",
    "    parsed_query = results['debug']['parsedquery_toString']\n",
    "    query_comps = parsed_query.replace('+(', '').replace('(', '').replace(')', '').split(' ')\n",
    "        \n",
    "    for comp in query_comps:\n",
    "        _, _, after = comp.partition('fulltext_search:')\n",
    "            \n",
    "        if(len(after) > 0):\n",
    "            query_tokens.append(after)\n",
    "        \n",
    "    return query_tokens"
   ]
  },
  {
   "cell_type": "code",
   "execution_count": 8,
   "id": "4a966072",
   "metadata": {
    "tags": []
   },
   "outputs": [],
   "source": [
    "def get_query_facets(query):\n",
    "    facet_config = {\n",
    "        \"body\": {\n",
    "            \"type\": \"terms\",\n",
    "            \"field\": field,\n",
    "            \"sort\": { \"relatedness\": \"desc\"},\n",
    "            \"mincount\": 2,\n",
    "            \"limit\": 10,\n",
    "            \"facet\": {\n",
    "                \"relatedness\": {\n",
    "                    \"type\": \"func\",\n",
    "                    \"func\": \"relatedness($fore,$back)\",\n",
    "                    \"min_popularity\": 0.0005\n",
    "                }\n",
    "            }\n",
    "        }\n",
    "    }\n",
    "\n",
    "    request = {\n",
    "        \"params\": {\n",
    "            \"qf\": qf,\n",
    "            \"fore\": \"{!type=$defType qf=$qf v=$q}\",\n",
    "            \"back\": \"*:*\",\n",
    "            \"defType\": \"edismax\",\n",
    "            \"rows\": 0,\n",
    "            \"echoParams\": \"none\",\n",
    "            \"omitHeader\": \"true\",\n",
    "        },\n",
    "        \"query\": query,\n",
    "        \"facet\": facet_config\n",
    "    }\n",
    "    \n",
    "    facet_result = requests.post(f\"{url}/{collection}/search\", json=request).json()\n",
    "    return facet_result"
   ]
  },
  {
   "cell_type": "code",
   "execution_count": 4,
   "id": "384fd1d4",
   "metadata": {
    "tags": []
   },
   "outputs": [],
   "source": [
    "def create_expanded_query(query):\n",
    "    facet_result = get_query_facets(query)\n",
    "    query_tokens = get_query_tokens(query)\n",
    "    \n",
    "    original_terms = \"\"\n",
    "    query_expansion = \"\"\n",
    "\n",
    "    for term in query_tokens:\n",
    "        if len(query_expansion) > 0:\n",
    "            query_expansion += \" \"\n",
    "        original_terms += \" \" + term\n",
    "        query_expansion += term + \"^\" + str(2)\n",
    "\n",
    "    if 'body' not in facet_result['facets']:\n",
    "        return query\n",
    "        \n",
    "    terms = facet_result[\"facets\"][\"body\"][\"buckets\"]\n",
    "    for bucket in facet_result[\"facets\"][\"body\"][\"buckets\"]:\n",
    "        term = bucket[\"val\"]\n",
    "        boost = bucket[\"relatedness\"][\"relatedness\"]\n",
    "        if len(query_expansion) > 0:\n",
    "            query_expansion += \" \"\n",
    "        # Add every term with its boost (= relatedness with the initial query)\n",
    "        query_expansion += term + \"^\" + str(boost)\n",
    "    \n",
    "    # Build the expanded query\n",
    "    expanded_query = \"\\\"\" + query + \"\\\"^3 \" + query_expansion\n",
    "    \n",
    "    return expanded_query"
   ]
  },
  {
   "cell_type": "code",
   "execution_count": 23,
   "id": "cdadb28c",
   "metadata": {
    "tags": []
   },
   "outputs": [],
   "source": [
    "def search(query, facet):\n",
    "    expanded_query = create_expanded_query(query)\n",
    "    \n",
    "    request = {\n",
    "        \"query\": expanded_query,\n",
    "        \"fields\": [\"id\", \"title\", \"release\", \"origin\", \"director\", \"cast\", \"plot\"],\n",
    "        \"filter\": [\n",
    "            facet\n",
    "        ],\n",
    "        \"params\": {\n",
    "            \"hl.q\": \"\\\"\" + query + \"\\\"\" + query,\n",
    "            \"mm\": \"30%\"\n",
    "        }\n",
    "    }\n",
    "\n",
    "    search_results = requests.post(f\"{url}/{collection}/search\", json=request).json()\n",
    "    \n",
    "    return search_results"
   ]
  },
  {
   "cell_type": "code",
   "execution_count": null,
   "id": "5684018a",
   "metadata": {},
   "outputs": [],
   "source": []
  }
 ],
 "metadata": {
  "kernelspec": {
   "display_name": "Python 3 (ipykernel)",
   "language": "python",
   "name": "python3"
  },
  "language_info": {
   "codemirror_mode": {
    "name": "ipython",
    "version": 3
   },
   "file_extension": ".py",
   "mimetype": "text/x-python",
   "name": "python",
   "nbconvert_exporter": "python",
   "pygments_lexer": "ipython3",
   "version": "3.10.10"
  }
 },
 "nbformat": 4,
 "nbformat_minor": 5
}
