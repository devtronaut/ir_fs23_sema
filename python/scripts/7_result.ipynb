{
 "cells": [
  {
   "cell_type": "code",
   "execution_count": 10,
   "id": "b3209150",
   "metadata": {},
   "outputs": [],
   "source": [
    "%run 0.1_config.ipynb\n",
    "%run 0.2_utils.ipynb\n",
    "%run 1_query_expansion.ipynb\n",
    "%run 3_signals_boosting.ipynb\n",
    "%run 4_more_like_this.ipynb\n",
    "%run 5_spellchecking.ipynb\n",
    "%run 6_top_movies.ipynb"
   ]
  },
  {
   "cell_type": "markdown",
   "id": "3416742a",
   "metadata": {},
   "source": [
    "### Meist-geklickte Filme\n",
    "\n",
    "Übersicht von oft gesuchten Filmen für die Landing Page der Film-Suchmaschine.\n",
    "\n",
    "##### Funktionale Anforderungen:\n",
    "**7. Recommendations**: Besuchern der Suchmaschine wird eine Liste von oft gesuchten Filmen angezeigt."
   ]
  },
  {
   "cell_type": "code",
   "execution_count": 3,
   "id": "5590eb6e",
   "metadata": {},
   "outputs": [
    {
     "data": {
      "text/html": [
       "<h2>Top Movies</h2>"
      ],
      "text/plain": [
       "<IPython.core.display.HTML object>"
      ]
     },
     "metadata": {},
     "output_type": "display_data"
    },
    {
     "data": {
      "text/html": [
       "<h4 style='display:inline-block'>2528 Keep the Lights On</h4> <span>(American, 2012)</span>"
      ],
      "text/plain": [
       "<IPython.core.display.HTML object>"
      ]
     },
     "metadata": {},
     "output_type": "display_data"
    },
    {
     "data": {
      "text/html": [
       "<p>Director: Ira Sachs <br>Cast: Thure Lindhardt, Zachary Booth, David Anzuelo, Maria Dizzia, Julianne Nicholson, Souléymane Sy Savané, Paprika Steen</p>"
      ],
      "text/plain": [
       "<IPython.core.display.HTML object>"
      ]
     },
     "metadata": {},
     "output_type": "display_data"
    },
    {
     "data": {
      "text/html": [
       "<hr/>"
      ],
      "text/plain": [
       "<IPython.core.display.HTML object>"
      ]
     },
     "metadata": {},
     "output_type": "display_data"
    },
    {
     "data": {
      "text/html": [
       "<h4 style='display:inline-block'>830 Kiss Kiss (Bang Bang)</h4> <span>(British, 2000)</span>"
      ],
      "text/plain": [
       "<IPython.core.display.HTML object>"
      ]
     },
     "metadata": {},
     "output_type": "display_data"
    },
    {
     "data": {
      "text/html": [
       "<p>Director: Stewart Sugg <br>Cast: Stellan Skarsgård, Chris Penn</p>"
      ],
      "text/plain": [
       "<IPython.core.display.HTML object>"
      ]
     },
     "metadata": {},
     "output_type": "display_data"
    },
    {
     "data": {
      "text/html": [
       "<hr/>"
      ],
      "text/plain": [
       "<IPython.core.display.HTML object>"
      ]
     },
     "metadata": {},
     "output_type": "display_data"
    },
    {
     "data": {
      "text/html": [
       "<h4 style='display:inline-block'>4666 Baanam</h4> <span>(Telugu, 2009)</span>"
      ],
      "text/plain": [
       "<IPython.core.display.HTML object>"
      ]
     },
     "metadata": {},
     "output_type": "display_data"
    },
    {
     "data": {
      "text/html": [
       "<p>Director: Chaitanya Dantuluri <br>Cast: Nara Rohit, Vedhika</p>"
      ],
      "text/plain": [
       "<IPython.core.display.HTML object>"
      ]
     },
     "metadata": {},
     "output_type": "display_data"
    },
    {
     "data": {
      "text/html": [
       "<hr/>"
      ],
      "text/plain": [
       "<IPython.core.display.HTML object>"
      ]
     },
     "metadata": {},
     "output_type": "display_data"
    },
    {
     "data": {
      "text/html": [
       "<h4 style='display:inline-block'>408 Premonition</h4> <span>(American, 2007)</span>"
      ],
      "text/plain": [
       "<IPython.core.display.HTML object>"
      ]
     },
     "metadata": {},
     "output_type": "display_data"
    },
    {
     "data": {
      "text/html": [
       "<p>Director: Mennan Yapo <br>Cast: Sandra Bullock, Julian McMahon, Nia Long</p>"
      ],
      "text/plain": [
       "<IPython.core.display.HTML object>"
      ]
     },
     "metadata": {},
     "output_type": "display_data"
    },
    {
     "data": {
      "text/html": [
       "<hr/>"
      ],
      "text/plain": [
       "<IPython.core.display.HTML object>"
      ]
     },
     "metadata": {},
     "output_type": "display_data"
    },
    {
     "data": {
      "text/html": [
       "<h4 style='display:inline-block'>2125 Pasa Kiligal</h4> <span>(Tamil, 2006)</span>"
      ],
      "text/plain": [
       "<IPython.core.display.HTML object>"
      ]
     },
     "metadata": {},
     "output_type": "display_data"
    },
    {
     "data": {
      "text/html": [
       "<p>Director: Amirtham <br>Cast: Prabhu, Murali, Vineeth, Navya Nair, Malavika, Roja</p>"
      ],
      "text/plain": [
       "<IPython.core.display.HTML object>"
      ]
     },
     "metadata": {},
     "output_type": "display_data"
    },
    {
     "data": {
      "text/html": [
       "<hr/>"
      ],
      "text/plain": [
       "<IPython.core.display.HTML object>"
      ]
     },
     "metadata": {},
     "output_type": "display_data"
    },
    {
     "data": {
      "text/html": [
       "<h4 style='display:inline-block'>2708 Wolf Girl</h4> <span>(Canadian, 2001)</span>"
      ],
      "text/plain": [
       "<IPython.core.display.HTML object>"
      ]
     },
     "metadata": {},
     "output_type": "display_data"
    },
    {
     "data": {
      "text/html": [
       "<p>Director: Thom Fitzgerald <br>Cast: Grace Jones, Tim Curry, Victoria Sanchez, Lesley Ann Warren</p>"
      ],
      "text/plain": [
       "<IPython.core.display.HTML object>"
      ]
     },
     "metadata": {},
     "output_type": "display_data"
    },
    {
     "data": {
      "text/html": [
       "<hr/>"
      ],
      "text/plain": [
       "<IPython.core.display.HTML object>"
      ]
     },
     "metadata": {},
     "output_type": "display_data"
    },
    {
     "data": {
      "text/html": [
       "<h4 style='display:inline-block'>3429 Namo Venkatesa</h4> <span>(Telugu, 2010)</span>"
      ],
      "text/plain": [
       "<IPython.core.display.HTML object>"
      ]
     },
     "metadata": {},
     "output_type": "display_data"
    },
    {
     "data": {
      "text/html": [
       "<p>Director: Seenu Vytla <br>Cast: Venkatesh, Trisha Krishnan, Brahmanandam</p>"
      ],
      "text/plain": [
       "<IPython.core.display.HTML object>"
      ]
     },
     "metadata": {},
     "output_type": "display_data"
    },
    {
     "data": {
      "text/html": [
       "<hr/>"
      ],
      "text/plain": [
       "<IPython.core.display.HTML object>"
      ]
     },
     "metadata": {},
     "output_type": "display_data"
    },
    {
     "data": {
      "text/html": [
       "<h4 style='display:inline-block'>4013 Kushi Kushiga</h4> <span>(Telugu, 2004)</span>"
      ],
      "text/plain": [
       "<IPython.core.display.HTML object>"
      ]
     },
     "metadata": {},
     "output_type": "display_data"
    },
    {
     "data": {
      "text/html": [
       "<p>Director: G Ram Prasad <br>Cast: Jagapati Babu, Venu Thottempudi, Sangeetha, Nikita Thukral, Ramya Krishna</p>"
      ],
      "text/plain": [
       "<IPython.core.display.HTML object>"
      ]
     },
     "metadata": {},
     "output_type": "display_data"
    },
    {
     "data": {
      "text/html": [
       "<hr/>"
      ],
      "text/plain": [
       "<IPython.core.display.HTML object>"
      ]
     },
     "metadata": {},
     "output_type": "display_data"
    },
    {
     "data": {
      "text/html": [
       "<h4 style='display:inline-block'>4033 Transformers: Revenge of the Fallen</h4> <span>(American, 2009)</span>"
      ],
      "text/plain": [
       "<IPython.core.display.HTML object>"
      ]
     },
     "metadata": {},
     "output_type": "display_data"
    },
    {
     "data": {
      "text/html": [
       "<p>Director: Michael Bay <br>Cast: Shia LaBeouf, Megan Fox, Josh Duhamel, Tyrese Gibson, John Turturro, Matthew Marsden</p>"
      ],
      "text/plain": [
       "<IPython.core.display.HTML object>"
      ]
     },
     "metadata": {},
     "output_type": "display_data"
    },
    {
     "data": {
      "text/html": [
       "<hr/>"
      ],
      "text/plain": [
       "<IPython.core.display.HTML object>"
      ]
     },
     "metadata": {},
     "output_type": "display_data"
    },
    {
     "data": {
      "text/html": [
       "<h4 style='display:inline-block'>4871 Dhamaal</h4> <span>(Bollywood, 2007)</span>"
      ],
      "text/plain": [
       "<IPython.core.display.HTML object>"
      ]
     },
     "metadata": {},
     "output_type": "display_data"
    },
    {
     "data": {
      "text/html": [
       "<p>Director: Indra Kumar <br>Cast: Javed Jaffrey, Sanjay Dutt, Ritesh Deshmukh, Arshad Warsi, Aashish Chaudhary</p>"
      ],
      "text/plain": [
       "<IPython.core.display.HTML object>"
      ]
     },
     "metadata": {},
     "output_type": "display_data"
    },
    {
     "data": {
      "text/html": [
       "<hr/>"
      ],
      "text/plain": [
       "<IPython.core.display.HTML object>"
      ]
     },
     "metadata": {},
     "output_type": "display_data"
    }
   ],
   "source": [
    "top_movies = query_top_movies()\n",
    "pretty_print_docs_without_highlights(top_movies)"
   ]
  },
  {
   "cell_type": "markdown",
   "id": "fb9270c1",
   "metadata": {},
   "source": [
    "### Standard Ranking\n",
    "\n",
    "Suche mit standard Ranking von Solr mit dem BM25 Algorithmus und der vom Autor spezifizierten Änderung, dass Treffer im Titel mit Faktor 2 geboostet werden sollen.\n",
    "\n",
    "##### Funktionale Anforderungen\n",
    "**1. Matching**: Bezüglich des Querys relevante Dokumente sollen gefunden werden.  \n",
    "**2. Ranking**: Die Dokumente sollen entsprechend ihres Relevanz-Scores geranked werden.  \n",
    "**3. Facettierung**: Die Suche soll anhand von Facetten verfeinert werden können.  \n",
    "**4. Highlighting**: Die Suchterme sollen in den Resultaten hervorgehoben werden.  \n",
    "**5. Spellchecking**: Für Schreibfehler in Suchtermen sollen naheliegende Alternativen vorgeschlagen werden.  "
   ]
  },
  {
   "cell_type": "code",
   "execution_count": 11,
   "id": "59a1ce91",
   "metadata": {},
   "outputs": [
    {
     "data": {
      "text/html": [
       "<h3><u>Facets</u></h3>"
      ],
      "text/plain": [
       "<IPython.core.display.HTML object>"
      ]
     },
     "metadata": {},
     "output_type": "display_data"
    },
    {
     "data": {
      "text/html": [
       "<h4>Genres</h4>"
      ],
      "text/plain": [
       "<IPython.core.display.HTML object>"
      ]
     },
     "metadata": {},
     "output_type": "display_data"
    },
    {
     "data": {
      "text/html": [
       "<input type='checkbox'> horror</input> (64)"
      ],
      "text/plain": [
       "<IPython.core.display.HTML object>"
      ]
     },
     "metadata": {},
     "output_type": "display_data"
    },
    {
     "data": {
      "text/html": [
       "<input type='checkbox'> thriller</input> (49)"
      ],
      "text/plain": [
       "<IPython.core.display.HTML object>"
      ]
     },
     "metadata": {},
     "output_type": "display_data"
    },
    {
     "data": {
      "text/html": [
       "<input type='checkbox'> action</input> (43)"
      ],
      "text/plain": [
       "<IPython.core.display.HTML object>"
      ]
     },
     "metadata": {},
     "output_type": "display_data"
    },
    {
     "data": {
      "text/html": [
       "<input type='checkbox'> drama</input> (40)"
      ],
      "text/plain": [
       "<IPython.core.display.HTML object>"
      ]
     },
     "metadata": {},
     "output_type": "display_data"
    },
    {
     "data": {
      "text/html": [
       "<input type='checkbox'> crime drama</input> (24)"
      ],
      "text/plain": [
       "<IPython.core.display.HTML object>"
      ]
     },
     "metadata": {},
     "output_type": "display_data"
    },
    {
     "data": {
      "text/html": [
       "<p>Show more... </p>"
      ],
      "text/plain": [
       "<IPython.core.display.HTML object>"
      ]
     },
     "metadata": {},
     "output_type": "display_data"
    },
    {
     "data": {
      "text/html": [
       "<h4>Origins</h4>"
      ],
      "text/plain": [
       "<IPython.core.display.HTML object>"
      ]
     },
     "metadata": {},
     "output_type": "display_data"
    },
    {
     "data": {
      "text/html": [
       "<input type='checkbox'> American</input> (366)"
      ],
      "text/plain": [
       "<IPython.core.display.HTML object>"
      ]
     },
     "metadata": {},
     "output_type": "display_data"
    },
    {
     "data": {
      "text/html": [
       "<input type='checkbox'> Bollywood</input> (54)"
      ],
      "text/plain": [
       "<IPython.core.display.HTML object>"
      ]
     },
     "metadata": {},
     "output_type": "display_data"
    },
    {
     "data": {
      "text/html": [
       "<input type='checkbox'> Tamil</input> (35)"
      ],
      "text/plain": [
       "<IPython.core.display.HTML object>"
      ]
     },
     "metadata": {},
     "output_type": "display_data"
    },
    {
     "data": {
      "text/html": [
       "<input type='checkbox'> Telugu</input> (21)"
      ],
      "text/plain": [
       "<IPython.core.display.HTML object>"
      ]
     },
     "metadata": {},
     "output_type": "display_data"
    },
    {
     "data": {
      "text/html": [
       "<input type='checkbox'> British</input> (10)"
      ],
      "text/plain": [
       "<IPython.core.display.HTML object>"
      ]
     },
     "metadata": {},
     "output_type": "display_data"
    },
    {
     "data": {
      "text/html": [
       "<p>Show more... </p>"
      ],
      "text/plain": [
       "<IPython.core.display.HTML object>"
      ]
     },
     "metadata": {},
     "output_type": "display_data"
    },
    {
     "data": {
      "text/html": [
       "<h4>Release Years</h4>"
      ],
      "text/plain": [
       "<IPython.core.display.HTML object>"
      ]
     },
     "metadata": {},
     "output_type": "display_data"
    },
    {
     "data": {
      "text/html": [
       "<input type='checkbox'> 2000</input> (29)"
      ],
      "text/plain": [
       "<IPython.core.display.HTML object>"
      ]
     },
     "metadata": {},
     "output_type": "display_data"
    },
    {
     "data": {
      "text/html": [
       "<input type='checkbox'> 2001</input> (16)"
      ],
      "text/plain": [
       "<IPython.core.display.HTML object>"
      ]
     },
     "metadata": {},
     "output_type": "display_data"
    },
    {
     "data": {
      "text/html": [
       "<input type='checkbox'> 2002</input> (25)"
      ],
      "text/plain": [
       "<IPython.core.display.HTML object>"
      ]
     },
     "metadata": {},
     "output_type": "display_data"
    },
    {
     "data": {
      "text/html": [
       "<input type='checkbox'> 2003</input> (28)"
      ],
      "text/plain": [
       "<IPython.core.display.HTML object>"
      ]
     },
     "metadata": {},
     "output_type": "display_data"
    },
    {
     "data": {
      "text/html": [
       "<input type='checkbox'> 2004</input> (29)"
      ],
      "text/plain": [
       "<IPython.core.display.HTML object>"
      ]
     },
     "metadata": {},
     "output_type": "display_data"
    },
    {
     "data": {
      "text/html": [
       "<p>Show more... </p>"
      ],
      "text/plain": [
       "<IPython.core.display.HTML object>"
      ]
     },
     "metadata": {},
     "output_type": "display_data"
    },
    {
     "data": {
      "text/html": [
       "<hr/>"
      ],
      "text/plain": [
       "<IPython.core.display.HTML object>"
      ]
     },
     "metadata": {},
     "output_type": "display_data"
    },
    {
     "data": {
      "text/html": [
       "<h6></h6><br/>"
      ],
      "text/plain": [
       "<IPython.core.display.HTML object>"
      ]
     },
     "metadata": {},
     "output_type": "display_data"
    },
    {
     "data": {
      "text/html": [
       "<hr/>"
      ],
      "text/plain": [
       "<IPython.core.display.HTML object>"
      ]
     },
     "metadata": {},
     "output_type": "display_data"
    },
    {
     "data": {
      "text/html": [
       "<h4 style='display:inline-block'>2062 <b><u>Avengers</u></b>, TheThe <b><u>Avengers</u></b></h4> <span>(American, 2012)</span>"
      ],
      "text/plain": [
       "<IPython.core.display.HTML object>"
      ]
     },
     "metadata": {},
     "output_type": "display_data"
    },
    {
     "data": {
      "text/html": [
       "<p>Director: Joss Whedon <br>Cast: Robert Downey, Jr., Chris Evans, Mark Ruffalo, Chris Hemsworth, Scarlett Johansson, Jeremy Renner, Tom Hiddleston, Clark Gregg, Cobie Smulders, Stellan Skarsgård, Samuel L. Jackson</p>"
      ],
      "text/plain": [
       "<IPython.core.display.HTML object>"
      ]
     },
     "metadata": {},
     "output_type": "display_data"
    },
    {
     "data": {
      "text/html": [
       "<p>The Asgardian Loki encounters the Other, the leader of an extraterrestrial race known as the Chitauri. In exchange for retrieving the Tesseract,2 a powerful energy source of unknown potential, the Other promises Loki an army with which he can subjugate Earth. Nick Fury, director of the espionage agency S.H.I.E.L.D., and his lieutenant Agent Maria Hill arrive at a remote research facility during an evacuation, where physicist Dr. Erik Selvig is leading a research team experimenting on the Tessera ...<p>"
      ],
      "text/plain": [
       "<IPython.core.display.HTML object>"
      ]
     },
     "metadata": {},
     "output_type": "display_data"
    },
    {
     "data": {
      "text/html": [
       "<hr/>"
      ],
      "text/plain": [
       "<IPython.core.display.HTML object>"
      ]
     },
     "metadata": {},
     "output_type": "display_data"
    },
    {
     "data": {
      "text/html": [
       "<h4 style='display:inline-block'>3227 <b><u>Avengers</u></b>: Age of Ultron</h4> <span>(American, 2015)</span>"
      ],
      "text/plain": [
       "<IPython.core.display.HTML object>"
      ]
     },
     "metadata": {},
     "output_type": "display_data"
    },
    {
     "data": {
      "text/html": [
       "<p>Director: Joss Whedon <br>Cast: Robert Downey, Jr.\n",
       "Chris Evans\n",
       "Chris Hemsworth\n",
       "Mark Ruffalo</p>"
      ],
      "text/plain": [
       "<IPython.core.display.HTML object>"
      ]
     },
     "metadata": {},
     "output_type": "display_data"
    },
    {
     "data": {
      "text/html": [
       "<p>In the Eastern European country of Sokovia, the <b><u>Avengers</u></b>—Tony Stark, Steve Rogers, Thor, Bruce Banner, Natasha Romanoff, and Clint Barton—raid a Hydra facility commanded by Baron Wolfgang von Strucker, who has been experimenting on humans using the scepter previously wielded by Loki. They encounter two of Strucker's test subjects—twins Pietro Maximoff, who has superhuman speed, and Wanda Maximoff, who has telepathic and telekinetic abilities—and apprehend Strucker, while Stark retr ...<p>"
      ],
      "text/plain": [
       "<IPython.core.display.HTML object>"
      ]
     },
     "metadata": {},
     "output_type": "display_data"
    },
    {
     "data": {
      "text/html": [
       "<hr/>"
      ],
      "text/plain": [
       "<IPython.core.display.HTML object>"
      ]
     },
     "metadata": {},
     "output_type": "display_data"
    },
    {
     "data": {
      "text/html": [
       "<h4 style='display:inline-block'>3671 Captain America: Civil War</h4> <span>(American, 2016)</span>"
      ],
      "text/plain": [
       "<IPython.core.display.HTML object>"
      ]
     },
     "metadata": {},
     "output_type": "display_data"
    },
    {
     "data": {
      "text/html": [
       "<p>Director: Anthony Russo Joe Russo <br>Cast: Chris Evans\n",
       "Robert Downey Jr.\n",
       "Sebastian Stan</p>"
      ],
      "text/plain": [
       "<IPython.core.display.HTML object>"
      ]
     },
     "metadata": {},
     "output_type": "display_data"
    },
    {
     "data": {
      "text/html": [
       "<p>In 1991, the brainwashed super-soldier James \"Bucky\" Barnes is dispatched from a Hydra base in Siberia to intercept an automobile carrying a case of super-soldier serum. In the present day, approximately one year after Ultron's defeat in the nation of Sokovia at the hands of the <b><u>Avengers</u></b>,[N 1] Steve Rogers, Natasha Romanoff, Sam Wilson, and Wanda Maximoff stop Brock Rumlow from stealing a biological weapon from a lab in Lagos. Rumlow blows himself up, hoping to kill Rogers. When Ma ...<p>"
      ],
      "text/plain": [
       "<IPython.core.display.HTML object>"
      ]
     },
     "metadata": {},
     "output_type": "display_data"
    },
    {
     "data": {
      "text/html": [
       "<hr/>"
      ],
      "text/plain": [
       "<IPython.core.display.HTML object>"
      ]
     },
     "metadata": {},
     "output_type": "display_data"
    },
    {
     "data": {
      "text/html": [
       "<h4 style='display:inline-block'>3939 Spider-Man: Homecoming</h4> <span>(American, 2017)</span>"
      ],
      "text/plain": [
       "<IPython.core.display.HTML object>"
      ]
     },
     "metadata": {},
     "output_type": "display_data"
    },
    {
     "data": {
      "text/html": [
       "<p>Director: Jon Watts <br>Cast: Jon Watts (director/screenplay); John Francis Daley, Jonathan M. Goldstein, Christopher Ford, Chris McKenna, Erik Sommers (screenplay); Tom Holland, Michael Keaton, Zendaya, Donald Glover, Jacob Batalon, Laura Harrier, Tony Revolori, Tyne Daly, Bokeem Woodbine, Marisa Tomei, Robert Downey Jr.</p>"
      ],
      "text/plain": [
       "<IPython.core.display.HTML object>"
      ]
     },
     "metadata": {},
     "output_type": "display_data"
    },
    {
     "data": {
      "text/html": [
       "<p>Following the Battle of New York,[N 1] Adrian Toomes and his salvage company are contracted to clean up the city, but their operation is taken over by the Department of Damage Control (D.O.D.C.), a partnership between Tony Stark and the U.S. government. Enraged at being driven out of business, Toomes persuades his employees to keep the Chitauri technology they have already scavenged and use it to create and sell advanced weapons. Eight years later, Peter Parker is drafted into the <b><u>Avengers ...<p>"
      ],
      "text/plain": [
       "<IPython.core.display.HTML object>"
      ]
     },
     "metadata": {},
     "output_type": "display_data"
    },
    {
     "data": {
      "text/html": [
       "<hr/>"
      ],
      "text/plain": [
       "<IPython.core.display.HTML object>"
      ]
     },
     "metadata": {},
     "output_type": "display_data"
    },
    {
     "data": {
      "text/html": [
       "<h4 style='display:inline-block'>1316 Starving Games, TheThe Starving Games</h4> <span>(American, 2013)</span>"
      ],
      "text/plain": [
       "<IPython.core.display.HTML object>"
      ]
     },
     "metadata": {},
     "output_type": "display_data"
    },
    {
     "data": {
      "text/html": [
       "<p>Director: Jason Friedberg and Aaron Seltzer <br>Cast: Maiara Walsh, Brant Daugherty, Cody Christian</p>"
      ],
      "text/plain": [
       "<IPython.core.display.HTML object>"
      ]
     },
     "metadata": {},
     "output_type": "display_data"
    },
    {
     "data": {
      "text/html": [
       "<p>Kantmiss Evershot practices archery in the forest, but her boyfriend, Dale, surprises her; the arrow accidentally hits the Wizard of Oz. They return to District 12, where children afraid of getting picked for the Games injure and mutilate themselves to avoid selection. At the Gathering for the 75th Annual Starving Games, President Snowballs explains his reason for separating America into districts, as well as ridiculous prizes for winning. During the drawing for District 12's contestants, Petuni ...<p>"
      ],
      "text/plain": [
       "<IPython.core.display.HTML object>"
      ]
     },
     "metadata": {},
     "output_type": "display_data"
    },
    {
     "data": {
      "text/html": [
       "<hr/>"
      ],
      "text/plain": [
       "<IPython.core.display.HTML object>"
      ]
     },
     "metadata": {},
     "output_type": "display_data"
    },
    {
     "data": {
      "text/html": [
       "<h4 style='display:inline-block'>2505 G.I. Joe: Retaliation</h4> <span>(American, 2013)</span>"
      ],
      "text/plain": [
       "<IPython.core.display.HTML object>"
      ]
     },
     "metadata": {},
     "output_type": "display_data"
    },
    {
     "data": {
      "text/html": [
       "<p>Director: Jon M. Chu <br>Cast: D. J. Cotrona, Lee Byung-hun, Adrianne Palicki, Ray Park, Jonathan Pryce, Ray Stevenson, Channing Tatum, Bruce Willis, Dwayne Johnson</p>"
      ],
      "text/plain": [
       "<IPython.core.display.HTML object>"
      ]
     },
     "metadata": {},
     "output_type": "display_data"
    },
    {
     "data": {
      "text/html": [
       "<p>Following the events of The Rise of Cobra, Duke (Channing Tatum) has become the leader of the G.I. Joe unit, which is framed for stealing nuclear warheads from Pakistan by Zartan (Arnold Vosloo), who is impersonating the President of the United States (Jonathan Pryce). The unit is subsequently eliminated in a military air strike with Duke as one of the casualties. The only survivors are Roadblock (Dwayne Johnson), Flint (D.J. Cotrona), and Lady Jaye (Adrianne Palicki).\n",
       "Meanwhile, Storm Shadow (B ...<p>"
      ],
      "text/plain": [
       "<IPython.core.display.HTML object>"
      ]
     },
     "metadata": {},
     "output_type": "display_data"
    },
    {
     "data": {
      "text/html": [
       "<hr/>"
      ],
      "text/plain": [
       "<IPython.core.display.HTML object>"
      ]
     },
     "metadata": {},
     "output_type": "display_data"
    },
    {
     "data": {
      "text/html": [
       "<h4 style='display:inline-block'>2412 Haider</h4> <span>(Bollywood, 2014)</span>"
      ],
      "text/plain": [
       "<IPython.core.display.HTML object>"
      ]
     },
     "metadata": {},
     "output_type": "display_data"
    },
    {
     "data": {
      "text/html": [
       "<p>Director: Vishal Bhardwaj <br>Cast: Tabu, Shahid Kapoor, Shraddha Kapoor, Kay Kay Menon</p>"
      ],
      "text/plain": [
       "<IPython.core.display.HTML object>"
      ]
     },
     "metadata": {},
     "output_type": "display_data"
    },
    {
     "data": {
      "text/html": [
       "<p>In 1995, during the insurgency in Kashmir, Hilaal Meer (Narendra Jha), a doctor based in Srinagar, agrees to perform an appendectomy on Ikhlaque, the leader of a pro-separatist militant group. To avoid detection, he performs the surgery at his house, much to the chagrin of his wife Ghazala (Tabu), who questions his allegiance. The following day, during a military raid, Hilaal is accused of harbouring terrorists. A shootout ensues at his home, during which Ikhlaque is killed and Hilaal is taken a ...<p>"
      ],
      "text/plain": [
       "<IPython.core.display.HTML object>"
      ]
     },
     "metadata": {},
     "output_type": "display_data"
    },
    {
     "data": {
      "text/html": [
       "<hr/>"
      ],
      "text/plain": [
       "<IPython.core.display.HTML object>"
      ]
     },
     "metadata": {},
     "output_type": "display_data"
    },
    {
     "data": {
      "text/html": [
       "<h4 style='display:inline-block'>4513 Brother Bear</h4> <span>(American, 2003)</span>"
      ],
      "text/plain": [
       "<IPython.core.display.HTML object>"
      ]
     },
     "metadata": {},
     "output_type": "display_data"
    },
    {
     "data": {
      "text/html": [
       "<p>Director: Aaron Blaise, Bob Walker <br>Cast: Joaquin Phoenix, Jeremy Suarez, Rick Moranis</p>"
      ],
      "text/plain": [
       "<IPython.core.display.HTML object>"
      ]
     },
     "metadata": {},
     "output_type": "display_data"
    },
    {
     "data": {
      "text/html": [
       "<p>The film is set in a post-ice age North America, where the local tribesmen believe all creatures are created through the Spirits, who are said to appear in the form of an aurora. Three brothers (Kenai, the youngest brother; Denahi, the middle brother; and Sitka, the eldest brother) return to their tribe in order for Kenai to receive his totem, a necklace in the shape of an animal. The particular animal it represents symbolizes what he must achieve to call himself a man. Unlike Sitka, who gained  ...<p>"
      ],
      "text/plain": [
       "<IPython.core.display.HTML object>"
      ]
     },
     "metadata": {},
     "output_type": "display_data"
    },
    {
     "data": {
      "text/html": [
       "<hr/>"
      ],
      "text/plain": [
       "<IPython.core.display.HTML object>"
      ]
     },
     "metadata": {},
     "output_type": "display_data"
    },
    {
     "data": {
      "text/html": [
       "<h4 style='display:inline-block'>4245 Lahore</h4> <span>(Bollywood, 2010)</span>"
      ],
      "text/plain": [
       "<IPython.core.display.HTML object>"
      ]
     },
     "metadata": {},
     "output_type": "display_data"
    },
    {
     "data": {
      "text/html": [
       "<p>Director: Sanjay Puran Singh Chauhan <br>Cast: Aanaahad, Shraddha Das, Farooq Sheikh, Nafisa Ali</p>"
      ],
      "text/plain": [
       "<IPython.core.display.HTML object>"
      ]
     },
     "metadata": {},
     "output_type": "display_data"
    },
    {
     "data": {
      "text/html": [
       "<p>An Indian kickboxer defeats a Pakistani kickboxer in an asian kickboxing tournament. The event ends in a tragedy due to the Pakistani players' intemperance. The peace process initiated by the two countries struggles to gain its momentum. This is especially when the Indian hero's brother is determined to avenge his family and country during a second international bout that is being held in Lahore.[1] ...<p>"
      ],
      "text/plain": [
       "<IPython.core.display.HTML object>"
      ]
     },
     "metadata": {},
     "output_type": "display_data"
    },
    {
     "data": {
      "text/html": [
       "<hr/>"
      ],
      "text/plain": [
       "<IPython.core.display.HTML object>"
      ]
     },
     "metadata": {},
     "output_type": "display_data"
    },
    {
     "data": {
      "text/html": [
       "<h4 style='display:inline-block'>3483 Jay & Silent Bob's Super Groovy Cartoon Movie</h4> <span>(American, 2013)</span>"
      ],
      "text/plain": [
       "<IPython.core.display.HTML object>"
      ]
     },
     "metadata": {},
     "output_type": "display_data"
    },
    {
     "data": {
      "text/html": [
       "<p>Director: Steve Stark <br>Cast: Jason Mewes, Kevin Smith, Eliza Dushku, Tara Strong, Ralph Garman, Neil Gaiman</p>"
      ],
      "text/plain": [
       "<IPython.core.display.HTML object>"
      ]
     },
     "metadata": {},
     "output_type": "display_data"
    },
    {
     "data": {
      "text/html": [
       "<p>After winning $10,000,000 from a scratchcard they bought at the Quick Stop, Jay & Silent Bob decide to become superheroes Bluntman and Chronic (a parody of Batman and Robin). They build a secret fortress of solitude beneath RST Video and acquire all the necessary gadgets and accessories to make them ideal crime-fighters. They also hire their own butler, Albert (a parody of Alfred Pennyworth).\n",
       "Throughout their crime-fighting ordeals, they manage to accidentally create a few super-powered enemies  ...<p>"
      ],
      "text/plain": [
       "<IPython.core.display.HTML object>"
      ]
     },
     "metadata": {},
     "output_type": "display_data"
    }
   ],
   "source": [
    "query = \"Avengers\"\n",
    "genre_facet = \"horror\"\n",
    "origin_facet = \"*\"\n",
    "release_facet = \"*\"\n",
    "result = search(query, genre_facet, origin_facet, release_facet)\n",
    "spellcheck = get_spellcheck_string(query)\n",
    "\n",
    "pretty_print_facets(result)\n",
    "pretty_print_spellcheck(spellcheck)\n",
    "pretty_print_docs(result)"
   ]
  },
  {
   "cell_type": "markdown",
   "id": "4a357110",
   "metadata": {},
   "source": [
    "### Signals Boosting\n",
    "Das Ranking orientiert sich hier an den Nutzersignalen. Mit Signals Boosting wird die Methode bezeichnet, bei der Nutzersignale verwendet werden, um die Relevanz der Suchergebnisse zu bestimmen. Die Methode läuft unter dem Sammelbegriff von Crowd-Sourced-Intelligence.\n",
    "\n",
    "**Diskussion**: Im Rahmen der Semesterarbeit wirft das Standard-Ranking von Solr deutlich bessere Resultate ab als das Signals-Boosting, da die Nutzersignale pseudo-zufällig generiert wurden und daher nicht die Interessen einer Nutzergruppe repräsentieren."
   ]
  },
  {
   "cell_type": "code",
   "execution_count": 65,
   "id": "40e2a308",
   "metadata": {},
   "outputs": [
    {
     "data": {
      "text/html": [
       "<h3><u>Facets</u></h3>"
      ],
      "text/plain": [
       "<IPython.core.display.HTML object>"
      ]
     },
     "metadata": {},
     "output_type": "display_data"
    },
    {
     "data": {
      "text/html": [
       "<h4>Genres</h4>"
      ],
      "text/plain": [
       "<IPython.core.display.HTML object>"
      ]
     },
     "metadata": {},
     "output_type": "display_data"
    },
    {
     "data": {
      "text/html": [
       "<input type='checkbox'> drama</input> (4)"
      ],
      "text/plain": [
       "<IPython.core.display.HTML object>"
      ]
     },
     "metadata": {},
     "output_type": "display_data"
    },
    {
     "data": {
      "text/html": [
       "<input type='checkbox'> comedy</input> (2)"
      ],
      "text/plain": [
       "<IPython.core.display.HTML object>"
      ]
     },
     "metadata": {},
     "output_type": "display_data"
    },
    {
     "data": {
      "text/html": [
       "<input type='checkbox'> crime comedy</input> (1)"
      ],
      "text/plain": [
       "<IPython.core.display.HTML object>"
      ]
     },
     "metadata": {},
     "output_type": "display_data"
    },
    {
     "data": {
      "text/html": [
       "<input type='checkbox'> horror</input> (1)"
      ],
      "text/plain": [
       "<IPython.core.display.HTML object>"
      ]
     },
     "metadata": {},
     "output_type": "display_data"
    },
    {
     "data": {
      "text/html": [
       "<input type='checkbox'> horror, musical</input> (1)"
      ],
      "text/plain": [
       "<IPython.core.display.HTML object>"
      ]
     },
     "metadata": {},
     "output_type": "display_data"
    },
    {
     "data": {
      "text/html": [
       "<p>Show more... </p>"
      ],
      "text/plain": [
       "<IPython.core.display.HTML object>"
      ]
     },
     "metadata": {},
     "output_type": "display_data"
    },
    {
     "data": {
      "text/html": [
       "<h4>Origins</h4>"
      ],
      "text/plain": [
       "<IPython.core.display.HTML object>"
      ]
     },
     "metadata": {},
     "output_type": "display_data"
    },
    {
     "data": {
      "text/html": [
       "<input type='checkbox'> American</input> (9)"
      ],
      "text/plain": [
       "<IPython.core.display.HTML object>"
      ]
     },
     "metadata": {},
     "output_type": "display_data"
    },
    {
     "data": {
      "text/html": [
       "<input type='checkbox'> Chinese</input> (1)"
      ],
      "text/plain": [
       "<IPython.core.display.HTML object>"
      ]
     },
     "metadata": {},
     "output_type": "display_data"
    },
    {
     "data": {
      "text/html": [
       "<h4>Release Years</h4>"
      ],
      "text/plain": [
       "<IPython.core.display.HTML object>"
      ]
     },
     "metadata": {},
     "output_type": "display_data"
    },
    {
     "data": {
      "text/html": [
       "<input type='checkbox'> 2000</input> (2)"
      ],
      "text/plain": [
       "<IPython.core.display.HTML object>"
      ]
     },
     "metadata": {},
     "output_type": "display_data"
    },
    {
     "data": {
      "text/html": [
       "<input type='checkbox'> 2002</input> (1)"
      ],
      "text/plain": [
       "<IPython.core.display.HTML object>"
      ]
     },
     "metadata": {},
     "output_type": "display_data"
    },
    {
     "data": {
      "text/html": [
       "<input type='checkbox'> 2003</input> (2)"
      ],
      "text/plain": [
       "<IPython.core.display.HTML object>"
      ]
     },
     "metadata": {},
     "output_type": "display_data"
    },
    {
     "data": {
      "text/html": [
       "<input type='checkbox'> 2004</input> (1)"
      ],
      "text/plain": [
       "<IPython.core.display.HTML object>"
      ]
     },
     "metadata": {},
     "output_type": "display_data"
    },
    {
     "data": {
      "text/html": [
       "<input type='checkbox'> 2006</input> (1)"
      ],
      "text/plain": [
       "<IPython.core.display.HTML object>"
      ]
     },
     "metadata": {},
     "output_type": "display_data"
    },
    {
     "data": {
      "text/html": [
       "<p>Show more... </p>"
      ],
      "text/plain": [
       "<IPython.core.display.HTML object>"
      ]
     },
     "metadata": {},
     "output_type": "display_data"
    },
    {
     "data": {
      "text/html": [
       "<hr/>"
      ],
      "text/plain": [
       "<IPython.core.display.HTML object>"
      ]
     },
     "metadata": {},
     "output_type": "display_data"
    },
    {
     "data": {
      "text/html": [
       "<h6></h6><br/>"
      ],
      "text/plain": [
       "<IPython.core.display.HTML object>"
      ]
     },
     "metadata": {},
     "output_type": "display_data"
    },
    {
     "data": {
      "text/html": [
       "<hr/>"
      ],
      "text/plain": [
       "<IPython.core.display.HTML object>"
      ]
     },
     "metadata": {},
     "output_type": "display_data"
    },
    {
     "data": {
      "text/html": [
       "<h4 style='display:inline-block'>3417 Hanging Up</h4> <span>(American, 2000)</span>"
      ],
      "text/plain": [
       "<IPython.core.display.HTML object>"
      ]
     },
     "metadata": {},
     "output_type": "display_data"
    },
    {
     "data": {
      "text/html": [
       "<p>Director: Diane Keaton <br>Cast: Meg Ryan, Diane Keaton, Lisa Kudrow, Walter Matthau</p>"
      ],
      "text/plain": [
       "<IPython.core.display.HTML object>"
      ]
     },
     "metadata": {},
     "output_type": "display_data"
    },
    {
     "data": {
      "text/html": [
       "<p>Georgia Mozell, Eve Marks and Maddy Mozell are adult sisters. Georgia (Keaton) is the editor of her own wildly successful self-titled women’s magazine. She strives for publicity at any cost. Party planner Eve (Ryan) is the mother hen of the group, not only of her own family, but also of her siblings and father as their mother, Pat (Leachman), not only emotionally left their father when they divorced, but her daughters as well. And Maddy (Kudrow) is a vacuous soap <b><u>opera</u></b> actress who  ...<p>"
      ],
      "text/plain": [
       "<IPython.core.display.HTML object>"
      ]
     },
     "metadata": {},
     "output_type": "display_data"
    },
    {
     "data": {
      "text/html": [
       "<hr/>"
      ],
      "text/plain": [
       "<IPython.core.display.HTML object>"
      ]
     },
     "metadata": {},
     "output_type": "display_data"
    },
    {
     "data": {
      "text/html": [
       "<h4 style='display:inline-block'>4248 Repo! The Genetic <b><u>Opera</u></b></h4> <span>(American, 2008)</span>"
      ],
      "text/plain": [
       "<IPython.core.display.HTML object>"
      ]
     },
     "metadata": {},
     "output_type": "display_data"
    },
    {
     "data": {
      "text/html": [
       "<p>Director: Darren Lynn Bousman <br>Cast: Alexa Vega, Anthony Stewart Head, Sarah Brightman, Paris Hilton</p>"
      ],
      "text/plain": [
       "<IPython.core.display.HTML object>"
      ]
     },
     "metadata": {},
     "output_type": "display_data"
    },
    {
     "data": {
      "text/html": [
       "<p>By the year 2056, an epidemic of organ failures has devastated the planet. The megacorporation GeneCo provides organ transplants on a payment plan. Clients who default on payments are hunted down by Repo Men: skilled assassins contracted by GeneCo to repossess organs, usually killing the clients in the process. The CEO of GeneCo, Rottissimo \"Rotti\" Largo (as listed in a newspaper article about his kids), discovers he is terminally ill. Rotti's three children, Luigi Largo, Pavi Largo, and Amber S ...<p>"
      ],
      "text/plain": [
       "<IPython.core.display.HTML object>"
      ]
     },
     "metadata": {},
     "output_type": "display_data"
    },
    {
     "data": {
      "text/html": [
       "<hr/>"
      ],
      "text/plain": [
       "<IPython.core.display.HTML object>"
      ]
     },
     "metadata": {},
     "output_type": "display_data"
    },
    {
     "data": {
      "text/html": [
       "<h4 style='display:inline-block'>496 Intolerable Cruelty</h4> <span>(American, 2003)</span>"
      ],
      "text/plain": [
       "<IPython.core.display.HTML object>"
      ]
     },
     "metadata": {},
     "output_type": "display_data"
    },
    {
     "data": {
      "text/html": [
       "<p>Director: Joel and Ethan Coen <br>Cast: George Clooney, Catherine Zeta-Jones</p>"
      ],
      "text/plain": [
       "<IPython.core.display.HTML object>"
      ]
     },
     "metadata": {},
     "output_type": "display_data"
    },
    {
     "data": {
      "text/html": [
       "<p>Donovan Donaly (Geoffrey Rush) a TV soap <b><u>opera</u></b> producer, walks in on his wife Bonnie (Stacey Travis) being intimate with an ex-boyfriend. He files for divorce, and Bonnie hires Miles Massey (George Clooney), a top divorce attorney and the inventor of the \"Massey pre-nup\", a completely foolproof prenuptial agreement. Miles wins a large property settlement against Donaly, leaving him broke.\n",
       "Private investigator Gus Petch (Cedric the Entertainer) tails the wealthy and married Rex Rexr ...<p>"
      ],
      "text/plain": [
       "<IPython.core.display.HTML object>"
      ]
     },
     "metadata": {},
     "output_type": "display_data"
    },
    {
     "data": {
      "text/html": [
       "<hr/>"
      ],
      "text/plain": [
       "<IPython.core.display.HTML object>"
      ]
     },
     "metadata": {},
     "output_type": "display_data"
    },
    {
     "data": {
      "text/html": [
       "<h4 style='display:inline-block'>3141 Margaret</h4> <span>(American, 2011)</span>"
      ],
      "text/plain": [
       "<IPython.core.display.HTML object>"
      ]
     },
     "metadata": {},
     "output_type": "display_data"
    },
    {
     "data": {
      "text/html": [
       "<p>Director: Kenneth Lonergan <br>Cast: Anna Paquin, J. Smith-Cameron, Jean Reno, Jeannie Berlin, Allison Janney, Matthew Broderick, Mark Ruffalo, Matt Damon, Kieran Culkin, Olivia Thirlby, John Gallagher, Jr., Rosemarie DeWitt, Matt Bush</p>"
      ],
      "text/plain": [
       "<IPython.core.display.HTML object>"
      ]
     },
     "metadata": {},
     "output_type": "display_data"
    },
    {
     "data": {
      "text/html": [
       "<p>A 17-year-old Manhattan student, Lisa Cohen, shopping on the Upper West Side, interacts with bus driver Gerald Maretti as she runs alongside his moving bus; he allows himself to become distracted, leading to a fatal accident by missing a red light, in which a pedestrian, Monica Patterson, is hit by the bus and subsequently dies in Lisa's arms. Initially, Lisa reports to the police that the driver had a green traffic signal, but later, out of remorse, changes her story. She confronts Maretti, who ...<p>"
      ],
      "text/plain": [
       "<IPython.core.display.HTML object>"
      ]
     },
     "metadata": {},
     "output_type": "display_data"
    },
    {
     "data": {
      "text/html": [
       "<hr/>"
      ],
      "text/plain": [
       "<IPython.core.display.HTML object>"
      ]
     },
     "metadata": {},
     "output_type": "display_data"
    },
    {
     "data": {
      "text/html": [
       "<h4 style='display:inline-block'>3239 Nurse Betty</h4> <span>(American, 2000)</span>"
      ],
      "text/plain": [
       "<IPython.core.display.HTML object>"
      ]
     },
     "metadata": {},
     "output_type": "display_data"
    },
    {
     "data": {
      "text/html": [
       "<p>Director: Neil LaBute <br>Cast: Morgan Freeman, Renée Zellweger, Chris Rock, Greg Kinnear</p>"
      ],
      "text/plain": [
       "<IPython.core.display.HTML object>"
      ]
     },
     "metadata": {},
     "output_type": "display_data"
    },
    {
     "data": {
      "text/html": [
       "<p>In a small Kansas town, Betty, a diner waitress, is a fan of the soap <b><u>opera</u></b> A Reason to Love. She has no idea that her husband, Del, a car salesman, is having an affair and that he intends to leave Betty. She also doesn't know that her husband supplements his income by selling drugs. When Betty calls to ask about borrowing a Buick LeSabre for her birthday, her husband tells her to take a different car. The LeSabre (unknown to Betty) has drugs hidden in the trunk.\n",
       "Two hitmen, Charli ...<p>"
      ],
      "text/plain": [
       "<IPython.core.display.HTML object>"
      ]
     },
     "metadata": {},
     "output_type": "display_data"
    },
    {
     "data": {
      "text/html": [
       "<hr/>"
      ],
      "text/plain": [
       "<IPython.core.display.HTML object>"
      ]
     },
     "metadata": {},
     "output_type": "display_data"
    },
    {
     "data": {
      "text/html": [
       "<h4 style='display:inline-block'>4435 Sonhos de Peixe</h4> <span>(American, 2006)</span>"
      ],
      "text/plain": [
       "<IPython.core.display.HTML object>"
      ]
     },
     "metadata": {},
     "output_type": "display_data"
    },
    {
     "data": {
      "text/html": [
       "<p>Director: Kirill Mikhanovsky <br>Cast: José Maria Alves, Phellipe Haagensen</p>"
      ],
      "text/plain": [
       "<IPython.core.display.HTML object>"
      ]
     },
     "metadata": {},
     "output_type": "display_data"
    },
    {
     "data": {
      "text/html": [
       "<p>In a village on the northeastern coast of Brazil, Jusce, 17, scrapes a living by diving 30 meters, with rudimentary equipment, for lobster. His \"prize\" at the end of a long day of risky work is sitting close to Ana, who lives with her mother and young daughter, as she savors the drama of urban sophisticates on her favorite soap <b><u>opera</u></b>.\n",
       "Ana dreams of leaving the village to see the world. Jusce is content with the life he leads. The other fishermen, friends of Jusce's dead father, hel ...<p>"
      ],
      "text/plain": [
       "<IPython.core.display.HTML object>"
      ]
     },
     "metadata": {},
     "output_type": "display_data"
    },
    {
     "data": {
      "text/html": [
       "<hr/>"
      ],
      "text/plain": [
       "<IPython.core.display.HTML object>"
      ]
     },
     "metadata": {},
     "output_type": "display_data"
    },
    {
     "data": {
      "text/html": [
       "<h4 style='display:inline-block'>3872 The Secret Lives of Dentists</h4> <span>(American, 2002)</span>"
      ],
      "text/plain": [
       "<IPython.core.display.HTML object>"
      ]
     },
     "metadata": {},
     "output_type": "display_data"
    },
    {
     "data": {
      "text/html": [
       "<p>Director: Alan Rudolph <br>Cast: Campbell Scott, Hope Davis, Denis Leary</p>"
      ],
      "text/plain": [
       "<IPython.core.display.HTML object>"
      ]
     },
     "metadata": {},
     "output_type": "display_data"
    },
    {
     "data": {
      "text/html": [
       "<p>David (Campbell Scott) and Dana Hurst (Hope Davis) are dentists who are married with three daughters and share a dental practice in Westchester County, New York. Dana is in the chorus of a community <b><u>opera</u></b> production, and when David goes backstage to give her a good luck charm, he sees her in the arms of another man. As he contemplates how to handle this, he begins having imaginary conversations with a difficult former patient (Denis Leary). When the whole family gets the flu, every ...<p>"
      ],
      "text/plain": [
       "<IPython.core.display.HTML object>"
      ]
     },
     "metadata": {},
     "output_type": "display_data"
    },
    {
     "data": {
      "text/html": [
       "<hr/>"
      ],
      "text/plain": [
       "<IPython.core.display.HTML object>"
      ]
     },
     "metadata": {},
     "output_type": "display_data"
    },
    {
     "data": {
      "text/html": [
       "<h4 style='display:inline-block'>4959 Stage Fright</h4> <span>(American, 2014)</span>"
      ],
      "text/plain": [
       "<IPython.core.display.HTML object>"
      ]
     },
     "metadata": {},
     "output_type": "display_data"
    },
    {
     "data": {
      "text/html": [
       "<p>Director: Jerome Sable <br>Cast: Allie MacDonald\n",
       "Minnie Driver\n",
       "Meat Loaf\n",
       "Brandon Uranowitz</p>"
      ],
      "text/plain": [
       "<IPython.core.display.HTML object>"
      ]
     },
     "metadata": {},
     "output_type": "display_data"
    },
    {
     "data": {
      "text/html": [
       "<p>In 2004, Broadway diva Kylie Swanson opened the musical The Haunting of the <b><u>Opera</u></b> (a reference to real-life musical The Phantom of the <b><u>Opera</u></b>) to a packed audience. However, that same night, she was murdered backstage by an unknown assailant wearing the mask of the play's villain, <b><u>Opera</u></b> Ghost. 10 years later in the present-day, Kylie's children Camilla and Buddy have grown up raised by Roger McCall, a former lover of Kylie's and the producer of a musical  ...<p>"
      ],
      "text/plain": [
       "<IPython.core.display.HTML object>"
      ]
     },
     "metadata": {},
     "output_type": "display_data"
    },
    {
     "data": {
      "text/html": [
       "<hr/>"
      ],
      "text/plain": [
       "<IPython.core.display.HTML object>"
      ]
     },
     "metadata": {},
     "output_type": "display_data"
    },
    {
     "data": {
      "text/html": [
       "<h4 style='display:inline-block'>4262 The Phantom of the <b><u>Opera</u></b></h4> <span>(American, 2004)</span>"
      ],
      "text/plain": [
       "<IPython.core.display.HTML object>"
      ]
     },
     "metadata": {},
     "output_type": "display_data"
    },
    {
     "data": {
      "text/html": [
       "<p>Director: Joel Schumacher <br>Cast: Gerard Butler, Emmy Rossum, Patrick Wilson</p>"
      ],
      "text/plain": [
       "<IPython.core.display.HTML object>"
      ]
     },
     "metadata": {},
     "output_type": "display_data"
    },
    {
     "data": {
      "text/html": [
       "<p>In 1919, the <b><u>Opéra</u></b> Populaire holds a public auction to clear the theatre's vaults. Raoul, Viscount de Chagny purchases a papier-mâché music box in the shape of a monkey and eyes it sadly as Madame Giry, an aged woman dressed in black, inspects him. The auctioneer then presents a shattered chandelier as the next item up for bid, claiming that it once played a key role in \"the strange affair of the Phantom of the <b><u>Opera</u></b>\". As it flickers to life and slowly ascends to its  ...<p>"
      ],
      "text/plain": [
       "<IPython.core.display.HTML object>"
      ]
     },
     "metadata": {},
     "output_type": "display_data"
    },
    {
     "data": {
      "text/html": [
       "<hr/>"
      ],
      "text/plain": [
       "<IPython.core.display.HTML object>"
      ]
     },
     "metadata": {},
     "output_type": "display_data"
    },
    {
     "data": {
      "text/html": [
       "<h4 style='display:inline-block'>3994 Drifters</h4> <span>(Chinese, 2003)</span>"
      ],
      "text/plain": [
       "<IPython.core.display.HTML object>"
      ]
     },
     "metadata": {},
     "output_type": "display_data"
    },
    {
     "data": {
      "text/html": [
       "<p>Director: Wang Xiaoshuai <br>Cast: Duan Long</p>"
      ],
      "text/plain": [
       "<IPython.core.display.HTML object>"
      ]
     },
     "metadata": {},
     "output_type": "display_data"
    },
    {
     "data": {
      "text/html": [
       "<p>Hong Yunsheng is a jobless wanderer in Fujian. Attempting to find a better life in the United States, he enters the country as an undocumented worker. While there, however, his American dream quickly falls apart when he and his boss's daughter have a child. He was then told not to visit his son and he is made to sign a paper which is like a contract. He violates that by continuing to visit his son. Enraged, Hong's boss informs the INS and has him deported back to Fujian.\n",
       "Back home, Hong again ta ...<p>"
      ],
      "text/plain": [
       "<IPython.core.display.HTML object>"
      ]
     },
     "metadata": {},
     "output_type": "display_data"
    }
   ],
   "source": [
    "query = \"Opera\"\n",
    "facet = \"\"\n",
    "\n",
    "sign_result = search_signals_boosted(query, facet)\n",
    "spellcheck = get_spellcheck_string(query)\n",
    "\n",
    "pretty_print_facets(sign_result)\n",
    "pretty_print_spellcheck(spellcheck)\n",
    "pretty_print_docs(sign_result)"
   ]
  },
  {
   "cell_type": "code",
   "execution_count": 34,
   "id": "8f5f50b3",
   "metadata": {},
   "outputs": [
    {
     "data": {
      "text/html": [
       "<h4 style='display:inline-block'>3227 Avengers: Age of Ultron</h4> <span>(American, 2015)</span>"
      ],
      "text/plain": [
       "<IPython.core.display.HTML object>"
      ]
     },
     "metadata": {},
     "output_type": "display_data"
    },
    {
     "data": {
      "text/html": [
       "<p>Director: Joss Whedon <br>Cast: Robert Downey, Jr.\n",
       "Chris Evans\n",
       "Chris Hemsworth\n",
       "Mark Ruffalo</p>"
      ],
      "text/plain": [
       "<IPython.core.display.HTML object>"
      ]
     },
     "metadata": {},
     "output_type": "display_data"
    },
    {
     "data": {
      "text/html": [
       "<hr/>"
      ],
      "text/plain": [
       "<IPython.core.display.HTML object>"
      ]
     },
     "metadata": {},
     "output_type": "display_data"
    },
    {
     "data": {
      "text/html": [
       "<h4 style='display:inline-block'>4930 Thor</h4> <span>(American, 2011)</span>"
      ],
      "text/plain": [
       "<IPython.core.display.HTML object>"
      ]
     },
     "metadata": {},
     "output_type": "display_data"
    },
    {
     "data": {
      "text/html": [
       "<p>Director: Kenneth Branagh <br>Cast: Chris Hemsworth, Natalie Portman, Tom Hiddleston, Stellan Skarsgård, Colm Feore, Ray Stevenson, Idris Elba, Kat Dennings, Rene Russo, Anthony Hopkins</p>"
      ],
      "text/plain": [
       "<IPython.core.display.HTML object>"
      ]
     },
     "metadata": {},
     "output_type": "display_data"
    },
    {
     "data": {
      "text/html": [
       "<hr/>"
      ],
      "text/plain": [
       "<IPython.core.display.HTML object>"
      ]
     },
     "metadata": {},
     "output_type": "display_data"
    },
    {
     "data": {
      "text/html": [
       "<h4 style='display:inline-block'>4712 Thor: Ragnarok</h4> <span>(American, 2017)</span>"
      ],
      "text/plain": [
       "<IPython.core.display.HTML object>"
      ]
     },
     "metadata": {},
     "output_type": "display_data"
    },
    {
     "data": {
      "text/html": [
       "<p>Director: Taika Waititi <br>Cast: Taika Waititi (director); Eric Pearson (screenplay); Chris Hemsworth, Tom Hiddleston, Cate Blanchett, Idris Elba, Jeff Goldblum, Tessa Thompson, Karl Urban, Mark Ruffalo, Anthony Hopkins</p>"
      ],
      "text/plain": [
       "<IPython.core.display.HTML object>"
      ]
     },
     "metadata": {},
     "output_type": "display_data"
    },
    {
     "data": {
      "text/html": [
       "<hr/>"
      ],
      "text/plain": [
       "<IPython.core.display.HTML object>"
      ]
     },
     "metadata": {},
     "output_type": "display_data"
    },
    {
     "data": {
      "text/html": [
       "<h4 style='display:inline-block'>3490 Captain America: The First Avenger</h4> <span>(American, 2011)</span>"
      ],
      "text/plain": [
       "<IPython.core.display.HTML object>"
      ]
     },
     "metadata": {},
     "output_type": "display_data"
    },
    {
     "data": {
      "text/html": [
       "<p>Director: Joe Johnston <br>Cast: Chris Evans, Tommy Lee Jones, Hugo Weaving, Dominic Cooper, Neal McDonough, Derek Luke, Stanley Tucci, Hayley Atwell, Sebastian Stan, Kenneth Choi, Toby Jones, Richard Armitage, J. J. Feild, Samuel L. Jackson</p>"
      ],
      "text/plain": [
       "<IPython.core.display.HTML object>"
      ]
     },
     "metadata": {},
     "output_type": "display_data"
    },
    {
     "data": {
      "text/html": [
       "<hr/>"
      ],
      "text/plain": [
       "<IPython.core.display.HTML object>"
      ]
     },
     "metadata": {},
     "output_type": "display_data"
    },
    {
     "data": {
      "text/html": [
       "<h4 style='display:inline-block'>3671 Captain America: Civil War</h4> <span>(American, 2016)</span>"
      ],
      "text/plain": [
       "<IPython.core.display.HTML object>"
      ]
     },
     "metadata": {},
     "output_type": "display_data"
    },
    {
     "data": {
      "text/html": [
       "<p>Director: Anthony Russo Joe Russo <br>Cast: Chris Evans\n",
       "Robert Downey Jr.\n",
       "Sebastian Stan</p>"
      ],
      "text/plain": [
       "<IPython.core.display.HTML object>"
      ]
     },
     "metadata": {},
     "output_type": "display_data"
    },
    {
     "data": {
      "text/html": [
       "<hr/>"
      ],
      "text/plain": [
       "<IPython.core.display.HTML object>"
      ]
     },
     "metadata": {},
     "output_type": "display_data"
    }
   ],
   "source": [
    "# id:2062 is the first avengers movie\n",
    "query = \"id:2062\"\n",
    "\n",
    "similar_movies = more_like_this(query)\n",
    "pretty_print_similar_movies(similar_movies)"
   ]
  },
  {
   "cell_type": "code",
   "execution_count": null,
   "id": "57efa8ca",
   "metadata": {},
   "outputs": [],
   "source": []
  }
 ],
 "metadata": {
  "kernelspec": {
   "display_name": "Python 3 (ipykernel)",
   "language": "python",
   "name": "python3"
  },
  "language_info": {
   "codemirror_mode": {
    "name": "ipython",
    "version": 3
   },
   "file_extension": ".py",
   "mimetype": "text/x-python",
   "name": "python",
   "nbconvert_exporter": "python",
   "pygments_lexer": "ipython3",
   "version": "3.10.10"
  }
 },
 "nbformat": 4,
 "nbformat_minor": 5
}
