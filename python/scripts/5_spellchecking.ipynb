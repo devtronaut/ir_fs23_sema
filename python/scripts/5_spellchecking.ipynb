{
 "cells": [
  {
   "cell_type": "code",
   "execution_count": 2,
   "id": "f506617d",
   "metadata": {},
   "outputs": [],
   "source": [
    "import requests\n",
    "import json\n",
    "import string\n",
    "from IPython.display import display, HTML"
   ]
  },
  {
   "cell_type": "code",
   "execution_count": 2,
   "id": "e5f09605",
   "metadata": {},
   "outputs": [],
   "source": [
    "def get_parsed_query(query):\n",
    "    request = {\n",
    "        \"query\": query,\n",
    "        \"params\": {\n",
    "            \"rows\": 0,\n",
    "            \"debugQuery\": \"true\"\n",
    "        }\n",
    "    }\n",
    "        \n",
    "    results = requests.post(f\"{url}/{collection}/spellcheck\", json=request).json()\n",
    "    \n",
    "    if(\"error\" in results):\n",
    "        print(results['error']['msg'])\n",
    "        return\n",
    "    \n",
    "    if(\"debug\" not in results):\n",
    "        print(\"No debug section or no parsedQuery in debug section.\")\n",
    "        return;\n",
    "    \n",
    "    if(\"parsedquery_toString\" not in results[\"debug\"]):\n",
    "        print(\"No parsedQuery in debug section.\")\n",
    "        return\n",
    "        \n",
    "    query_tokens = []\n",
    "    parsed_query = results['debug']['parsedquery_toString']\n",
    "    query_comps = parsed_query.replace('+(', '').replace('(', '').replace(')', '').split(' ')\n",
    "        \n",
    "    for comp in query_comps:\n",
    "        _, _, after = comp.partition('word_suggestion:')   \n",
    "        if(len(after) > 0):\n",
    "            query_tokens.append(after)\n",
    "        \n",
    "    return query_tokens"
   ]
  },
  {
   "cell_type": "code",
   "execution_count": 5,
   "id": "95affd8d",
   "metadata": {},
   "outputs": [],
   "source": [
    "def get_spellcheck(query):\n",
    "    spellcheck_request = {\n",
    "        \"query\": \" \".join(query)\n",
    "    }\n",
    "    \n",
    "    results = requests.post(f\"{url}/{collection}/spellcheck\", json=spellcheck_request).json()\n",
    "    \n",
    "    if(\"error\" in results):\n",
    "        print(results['error']['msg'])\n",
    "        return\n",
    "    \n",
    "    if(\"spellcheck\" not in results):\n",
    "        print('No spellcheck in results.')\n",
    "        return\n",
    "    \n",
    "    spellcheck = results['spellcheck']['suggestions']\n",
    "    \n",
    "    return spellcheck"
   ]
  },
  {
   "cell_type": "code",
   "execution_count": 11,
   "id": "cfe0be30",
   "metadata": {},
   "outputs": [],
   "source": [
    "def prettify_spellcheck(spellcheck):\n",
    "    pretty_spellcheck = \"\"\n",
    "    \n",
    "    for i in range(0, len(spellcheck), 2):\n",
    "        pretty_spellcheck += f\"Did you mean: '{spellcheck[i+1]['suggestion'][0]}' instead of '{spellcheck[i]}'<br/>\"\n",
    "    \n",
    "    return pretty_spellcheck"
   ]
  },
  {
   "cell_type": "code",
   "execution_count": 12,
   "id": "10f93e6e",
   "metadata": {},
   "outputs": [],
   "source": [
    "def get_spellcheck_string(query):\n",
    "    query_comps = get_parsed_query(query)\n",
    "    \n",
    "    if(len(query_comps) == 0):\n",
    "        return ''\n",
    "\n",
    "    spellcheck = get_spellcheck(query_comps)\n",
    "\n",
    "    return prettify_spellcheck(spellcheck)"
   ]
  }
 ],
 "metadata": {
  "kernelspec": {
   "display_name": "Python 3 (ipykernel)",
   "language": "python",
   "name": "python3"
  },
  "language_info": {
   "codemirror_mode": {
    "name": "ipython",
    "version": 3
   },
   "file_extension": ".py",
   "mimetype": "text/x-python",
   "name": "python",
   "nbconvert_exporter": "python",
   "pygments_lexer": "ipython3",
   "version": "3.10.10"
  }
 },
 "nbformat": 4,
 "nbformat_minor": 5
}
